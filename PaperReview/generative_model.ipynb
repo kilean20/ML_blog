{
 "cells": [
  {
   "cell_type": "markdown",
   "metadata": {
    "slideshow": {
     "slide_type": "slide"
    }
   },
   "source": [
    "#  Generative model ( vs. discriminative model )"
   ]
  },
  {
   "cell_type": "markdown",
   "metadata": {},
   "source": [
    "- Data assumed to be generated from unknown latent variables\n",
    "- “Modeling” is understood in almost every science as unveiling this generating process by hypothesizing theories and testing these theories through observations.\n",
    "    - The resulting models are usually highly intuitive and interpretable\n",
    "    - Tend to make stronger assumptions on the data than purely discriminative counterparts, often leading to higher asymptotic bias when wrong.\n",
    "    \n",
    "- If one is solely interested in learning to discriminate, and one is in a regime with a sufficiently large amount of data, then purely discriminative models typically will lead to fewer errors in discriminative tasks\n",
    "    - However, one may have few labeled examples and many more unlabeled examples. In this case, the generative model can greatly improve prediction"
   ]
  }
 ],
 "metadata": {
  "kernelspec": {
   "display_name": "Python 3",
   "language": "python",
   "name": "python3"
  },
  "language_info": {
   "codemirror_mode": {
    "name": "ipython",
    "version": 3
   },
   "file_extension": ".py",
   "mimetype": "text/x-python",
   "name": "python",
   "nbconvert_exporter": "python",
   "pygments_lexer": "ipython3",
   "version": "3.7.6"
  }
 },
 "nbformat": 4,
 "nbformat_minor": 4
}
