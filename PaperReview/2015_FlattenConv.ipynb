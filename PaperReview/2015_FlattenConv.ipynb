{
 "cells": [
  {
   "cell_type": "markdown",
   "metadata": {},
   "source": [
    "# Flattened Convolutional Neural Networks for Feedforward Acceleration\n",
    "This note is a section by section summary of the [paper](https://arxiv.org/abs/1412.5474)  based on personal understanding. Some personal remarks at the end of the note."
   ]
  },
  {
   "cell_type": "markdown",
   "metadata": {
    "slideshow": {
     "slide_type": "slide"
    }
   },
   "source": [
    "## 1. Introduction\n",
    "\n",
    "Goal is to to reduce the redundancy of the parameters of the convolutional filters. "
   ]
  },
  {
   "cell_type": "markdown",
   "metadata": {
    "slideshow": {
     "slide_type": "slide"
    }
   },
   "source": [
    "## 2. Related works\n",
    "\n",
    "refer oroginal paper..."
   ]
  },
  {
   "cell_type": "markdown",
   "metadata": {},
   "source": [
    "## 3. Flattening convolution filters\n",
    "\n",
    "(affine, i.e. before activation) feature map of regular conv filter reads \n",
    "\n",
    "$$\n",
    "F(x,y) = \\sum_{c=1}^C \\sum_{x'=1}^X \\sum_{y'=1}^Y = I(c,x-x',y-y')W(c,x',y')\n",
    "$$\n",
    "\n",
    "(bias is not included for simplicity). $I\\in \\mathbb{R}^{C\\times N \\times M \\times F}$ is the input map of $N\\times M$ spatial dimension. Note that the numboer of operation is $MNCXY$\n",
    "\n",
    "Replace 3D filter by cross products of 1D filters. The (affine) feature map of the flattened (i.e. cross products of 1D filters) conv filter reads\n",
    "\n",
    "$$\n",
    "F(x,y) =  \\sum_{x'=1}^X \\left(\\sum_{y'=1}^Y \\left(\\sum_{c=1}^C  I(c,x-x',y-y')W_c(c)\\right)W_y(y')\\right)W_x(x')\n",
    "$$\n",
    "\n",
    "Note that the numboer of operation is $MN(C+X+Y)$. (again, bias is not included for simplicity)"
   ]
  },
  {
   "cell_type": "markdown",
   "metadata": {},
   "source": [
    "## 4. Experimental Results\n",
    "\n",
    "with ten times less parameters, the flattened convolutional networks achieve similar or better accuracies on CIFAR-10, CIFAR-100, and MNIST\n",
    "\n",
    "refer oroginal paper..."
   ]
  }
 ],
 "metadata": {
  "kernelspec": {
   "display_name": "Python 3",
   "language": "python",
   "name": "python3"
  },
  "language_info": {
   "codemirror_mode": {
    "name": "ipython",
    "version": 3
   },
   "file_extension": ".py",
   "mimetype": "text/x-python",
   "name": "python",
   "nbconvert_exporter": "python",
   "pygments_lexer": "ipython3",
   "version": "3.7.4"
  }
 },
 "nbformat": 4,
 "nbformat_minor": 4
}
