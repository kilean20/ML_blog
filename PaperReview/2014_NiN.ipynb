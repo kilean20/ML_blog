{
 "cells": [
  {
   "cell_type": "markdown",
   "metadata": {},
   "source": [
    "# Network In Network\n",
    "\n",
    "This note is a section by section summary of the [paper](https://arxiv.org/abs/1312.4400)  based on personal understanding. Some personal remarks apear at the end of the note."
   ]
  },
  {
   "cell_type": "markdown",
   "metadata": {
    "slideshow": {
     "slide_type": "slide"
    }
   },
   "source": [
    "## 1. Introduction\n",
    "\n",
    "CNN convolution filter is a linear model. $\\rightarrow$ lack of abstraction. NIN add micro network\n",
    "\n",
    "where $\\theta$ is the point of interest (e.g. model parameter), $x$ is the observed data and $p(x \\mid \\theta)$ is the likelihood."
   ]
  },
  {
   "cell_type": "markdown",
   "metadata": {
    "slideshow": {
     "slide_type": "slide"
    }
   },
   "source": [
    "## 2. Convolutional Neural Network\n",
    "\n",
    "A feature map by a Conv filter follwed by ReLU reads:\n",
    "$$\n",
    "f_{i,j,k} = \\mathrm{max}\\left(w_k^T x_{i,j}, 0 \\right)\n",
    "$$\n",
    "where $(i, j)$ is the pixel index in the feature map, $x_{i,j}$ stands for the input patch centered at location $(i, j)$, and k is the channel."
   ]
  },
  {
   "cell_type": "markdown",
   "metadata": {},
   "source": [
    "## 3. Network In Network\n",
    "#### 3.1. MLP Convolution Layers\n",
    "\n",
    "A feature map by *mlpconv* (MLP Convolution) layer with ReLU is  \n",
    "\n",
    "$$\n",
    "\\begin{eqnarray}\n",
    "f^1_{i,j,k_1} &=& \\mathrm{max}\\left({w^1_{k_1}}^T x_{i,j} + b_{k_1}, 0 \\right) \\\\\n",
    "&\\vdots& \\\\\n",
    "f^n_{i,j,k_n} &=& \\mathrm{max}\\left({w^n_{k_n}}^T f^{n-1}_{i,j}  + b_{k_n}, 0 \\right) \\\\\n",
    "\\end{eqnarray}\n",
    "$$\n",
    "\n",
    "where $n$ is the number of layers of *mlconv*. \n",
    "Note that the first line is a regular convolution layer while following lines are 1x1 filter convolution layers.\n"
   ]
  },
  {
   "cell_type": "markdown",
   "metadata": {},
   "source": [
    "#### 3.2 Global Average Pooling\n",
    "\n",
    "The idea is to generate one feature map (instead of adding fully connected layers) for each corresponding category of the classification task. \n",
    "\n",
    "$\\rightarrow$ (1) native to the convolution structure, (2) feature maps can be easily interpreted, (3) no parameter to optimize in the global average pooling thus overfitting is avoided, (4) more robust to spatial translations of the input. "
   ]
  },
  {
   "cell_type": "markdown",
   "metadata": {},
   "source": [
    "## 4. Experiment\n",
    "\n",
    "refer oroginal paper..."
   ]
  }
 ],
 "metadata": {
  "kernelspec": {
   "display_name": "Python 3",
   "language": "python",
   "name": "python3"
  },
  "language_info": {
   "codemirror_mode": {
    "name": "ipython",
    "version": 3
   },
   "file_extension": ".py",
   "mimetype": "text/x-python",
   "name": "python",
   "nbconvert_exporter": "python",
   "pygments_lexer": "ipython3",
   "version": "3.7.4"
  }
 },
 "nbformat": 4,
 "nbformat_minor": 4
}
