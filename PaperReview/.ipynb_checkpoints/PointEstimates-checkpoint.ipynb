{
 "cells": [
  {
   "cell_type": "markdown",
   "metadata": {},
   "source": [
    "# Point estimate \n",
    ": estimation of the [mode](https://en.wikipedia.org/wiki/Mode_(statistics)) of the posterior"
   ]
  },
  {
   "cell_type": "markdown",
   "metadata": {
    "slideshow": {
     "slide_type": "slide"
    }
   },
   "source": [
    "\n",
    "# 1. maximum likelihood estimate (MLE)\n",
    "\n",
    "$\\hat{\\theta}_{\\mathrm{MLE}}(x) = \\underset{\\theta}{\\operatorname{arg\\,max}} \\ p(x \\mid \\theta) $\n",
    "\n",
    "where $\\theta$ is the point of interest (e.g. model parameter), $x$ is the observed data and $p(x \\mid \\theta)$ is the likelihood."
   ]
  },
  {
   "cell_type": "markdown",
   "metadata": {
    "slideshow": {
     "slide_type": "slide"
    }
   },
   "source": [
    "# 2. maximum a posteriori probability (MAP) estimate\n",
    "\n",
    "$\\hat{\\theta}_{\\mathrm{MAP}}(x)\n",
    "= \\underset{\\theta}{\\operatorname{arg\\,max}} \\ p(\\theta \\mid x)\n",
    "= \\underset{\\theta}{\\operatorname{arg\\,max}} \\ p(x \\mid \\theta) \\, \\phi(\\theta).\n",
    "$\n",
    "\n",
    "where $\\theta$ is the point of interest (e.g. model parameter), $p(x)$ is the evidence, $\\phi$ is the prior and $p(\\theta \\mid x)$ is the posterior"
   ]
  }
 ],
 "metadata": {
  "kernelspec": {
   "display_name": "Python 3",
   "language": "python",
   "name": "python3"
  },
  "language_info": {
   "codemirror_mode": {
    "name": "ipython",
    "version": 3
   },
   "file_extension": ".py",
   "mimetype": "text/x-python",
   "name": "python",
   "nbconvert_exporter": "python",
   "pygments_lexer": "ipython3",
   "version": "3.7.4"
  }
 },
 "nbformat": 4,
 "nbformat_minor": 4
}
