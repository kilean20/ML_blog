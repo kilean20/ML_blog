{
 "cells": [
  {
   "cell_type": "markdown",
   "metadata": {},
   "source": [
    "# Unpaired Image-to-Image Translation using Cycle-Consistent Adversarial Networks\n",
    "This note is a section by section summary of the [paper](https://arxiv.org/abs/1703.10593)  based on personal understanding. Some personal remarks appear at the end of the note.\n"
   ]
  },
  {
   "cell_type": "markdown",
   "metadata": {},
   "source": [
    "\n",
    "## 1. Introduction\n",
    "\n",
    "Consider a mapping $G:X \\rightarrow Y$ such that the disribution of $G(X)$ is indistinguishable from the distribution of $Y$. However, there are infinitely many such mappings (including e.g. mode collapse). Such a map does not guarantee that an individual\n",
    "input $x$ and output $y$ are paired up in a meaningful way. Solution: **cycle consistency loss** that encourages $F(G(x))\\simeq x$ and $G(F(y))\\simeq y$\n"
   ]
  },
  {
   "cell_type": "markdown",
   "metadata": {},
   "source": [
    "<br/><br/>\n",
    "## 2. Related work\n",
    "...\n",
    "\n",
    "\n"
   ]
  },
  {
   "cell_type": "markdown",
   "metadata": {},
   "source": [
    "## 3. Formulation\n",
    "\n",
    "#### 3.1. Adversarial Loss\n",
    "\n",
    "$$\n",
    "\\mathcal{L}_{GAN} (G,D_Y,X,Y) = \\mathbb{E}_{y\\sim p_{data}(y)}\\left[ \\log D_Y(y)\\right] + \\mathbb{E}_{x\\sim p_{data}(x)}\\left[ \\log (1 - D_Y(G(x)))\\right]\n",
    "$$\n",
    "\n",
    "train $\\min_G \\max_{D_Y} \\mathcal{L}_{GAN} (G, D_Y, X, Y)$, and similarily for $F:Y\\rightarrow X$\n",
    "\n"
   ]
  },
  {
   "cell_type": "markdown",
   "metadata": {},
   "source": [
    "#### 3.2 Cycle Consistency Loss\n",
    "\n",
    "$$\n",
    "\\mathcal{L}_{cyc}(G,F) = \\mathbb{E}_{x\\sim p_{data}(x)} \\left[ ||F(G(x))-x||_1\\right] + \\mathbb{E}_{y\\sim p_{data}(y)} \\left[ ||G(F(y))-y||_1\\right]\n",
    "$$\n",
    "\n"
   ]
  },
  {
   "cell_type": "markdown",
   "metadata": {},
   "source": [
    "#### 3.3. Full objective\n",
    "\n",
    "$$\n",
    "\\mathcal{L} (G,F,D_X,D_Y,X,Y) = \\mathcal{L}_{GAN} (G,D_Y,X,Y) + \\mathcal{L}_{GAN} (F,D_X,X,Y) + \\lambda\\mathcal{L}_{cyc}(G,F)\n",
    "$$\n",
    "\n",
    "Such a setup can also be seen as a special case of “adversarial autoencoders”"
   ]
  },
  {
   "cell_type": "markdown",
   "metadata": {},
   "source": [
    "<br/><br/>\n",
    "## 4. Implementation\n",
    "\n",
    "#### Network Architecture\n",
    "- *Generator*: 3 convolutions with residuals, 2 of them use fractional stride 1/2. use instance normalization.\n",
    "- *Discriminator*: use 70x70 PatchGANs\n",
    "\n",
    "#### Training details\n",
    "- replace $\\mathcal{L}_{GAN}$ by least-square loss:\n",
    "    - $G$ to minimize $\\mathbb{E}_{x\\sim p_{data}(x)} \\left[ (D(G(x))-1)^2 \\right]$, \n",
    "    - $D$ to minimize $\\mathbb{E}_{y\\sim p_{data}(y)} \\left[ (D(y)-1)^2\\right] + \\mathbb{E}_{x\\sim p_{data}(x)} \\left[ D(G(x))^2\\right]$\n",
    "    \n",
    "    \n",
    "- reduce model oscillation based on [this](https://arxiv.org/abs/1612.07828)\n",
    "    - *self-regularization* term, \n",
    "    - local adversarial loss,\n",
    "    - updating the discriminator using a history of refined images.\n",
    "    \n",
    "#### others\n",
    "- $\\lambda = 10$\n",
    "- Adam with batch size 1\n",
    "- lr = 0.0002 for the first 100 epochs then linearly decay to zero over the next 100 epohs\n"
   ]
  },
  {
   "cell_type": "markdown",
   "metadata": {},
   "source": [
    "<br/><br/>\n",
    "## 5. Results\n",
    "...\n",
    "\n",
    "\n"
   ]
  },
  {
   "cell_type": "markdown",
   "metadata": {},
   "source": [
    "\n",
    "## 6. Limitations and Discussion\n",
    "\n",
    "\n",
    "- little success for tasks that require geometric changes (e.g. dog$\\rightarrow$cat resulted minimal changes)\n",
    "- lingering gap between the results achievable with paired training data and those achieved by our unpaired method\n",
    "    - maybe this gap is impossible to remove"
   ]
  }
 ],
 "metadata": {
  "kernelspec": {
   "display_name": "Python 3",
   "language": "python",
   "name": "python3"
  },
  "language_info": {
   "codemirror_mode": {
    "name": "ipython",
    "version": 3
   },
   "file_extension": ".py",
   "mimetype": "text/x-python",
   "name": "python",
   "nbconvert_exporter": "python",
   "pygments_lexer": "ipython3",
   "version": "3.7.4"
  }
 },
 "nbformat": 4,
 "nbformat_minor": 4
}
