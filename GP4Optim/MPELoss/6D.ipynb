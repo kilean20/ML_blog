{
 "cells": [
  {
   "cell_type": "code",
   "execution_count": 1,
   "metadata": {
    "id": "Rae_ovNg-UjL"
   },
   "outputs": [],
   "source": [
    "import numpy as np\n",
    "\n",
    "from sklearn.gaussian_process import GaussianProcessRegressor\n",
    "from sklearn.gaussian_process.kernels import RBF, ConstantKernel as C\n",
    "import matplotlib.pyplot as plt\n",
    "\n",
    "from copy import deepcopy as copy\n",
    "# np.random.seed(1)"
   ]
  },
  {
   "cell_type": "code",
   "execution_count": 2,
   "metadata": {
    "colab": {
     "base_uri": "https://localhost:8080/"
    },
    "id": "18MOHxpPZfxp",
    "outputId": "dc324015-cd02-4421-fca6-c1b2d82b2c47"
   },
   "outputs": [
    {
     "name": "stdout",
     "output_type": "stream",
     "text": [
      "Defaulting to user installation because normal site-packages is not writeable\n",
      "Collecting git+https://github.com/kilean20/pyTorchTemplate.git\n",
      "  Cloning https://github.com/kilean20/pyTorchTemplate.git to /tmp/pip-req-build-yjx0ggwd\n",
      "  Running command git clone -q https://github.com/kilean20/pyTorchTemplate.git /tmp/pip-req-build-yjx0ggwd\n",
      "Requirement already satisfied (use --upgrade to upgrade): pyTorchTemplate==0.0.1 from git+https://github.com/kilean20/pyTorchTemplate.git in /global/u1/k/khwang/.local/cori/pytorchv1.4.0/lib/python3.7/site-packages\n",
      "Building wheels for collected packages: pyTorchTemplate\n",
      "  Building wheel for pyTorchTemplate (setup.py) ... \u001b[?25ldone\n",
      "\u001b[?25h  Created wheel for pyTorchTemplate: filename=pyTorchTemplate-0.0.1-py3-none-any.whl size=6602 sha256=654e3e5528a651691b48705109e640a5136d7db7d7ffde8bcf3f35997e216a3c\n",
      "  Stored in directory: /tmp/pip-ephem-wheel-cache-txsljao3/wheels/15/b3/6d/10ca0e96789eddf8cbd29d87914215e75608e6930926678261\n",
      "Successfully built pyTorchTemplate\n"
     ]
    }
   ],
   "source": [
    "!pip install git+https://github.com/kilean20/pyTorchTemplate.git"
   ]
  },
  {
   "cell_type": "code",
   "execution_count": 3,
   "metadata": {},
   "outputs": [
    {
     "name": "stdout",
     "output_type": "stream",
     "text": [
      "Defaulting to user installation because normal site-packages is not writeable\n",
      "Collecting git+https://github.com/kilean20/pyTorchTemplate.git\n",
      "  Cloning https://github.com/kilean20/pyTorchTemplate.git to /tmp/pip-req-build-80obm_y2\n",
      "  Running command git clone -q https://github.com/kilean20/pyTorchTemplate.git /tmp/pip-req-build-80obm_y2\n",
      "Building wheels for collected packages: pyTorchTemplate\n",
      "  Building wheel for pyTorchTemplate (setup.py) ... \u001b[?25ldone\n",
      "\u001b[?25h  Created wheel for pyTorchTemplate: filename=pyTorchTemplate-0.0.1-py3-none-any.whl size=6602 sha256=1b948b3c6b8dda2ee8ccf18175d49183256a5f2ffd43ba90fa41a65992b8d3c6\n",
      "  Stored in directory: /tmp/pip-ephem-wheel-cache-0g1pojdx/wheels/15/b3/6d/10ca0e96789eddf8cbd29d87914215e75608e6930926678261\n",
      "Successfully built pyTorchTemplate\n",
      "Installing collected packages: pyTorchTemplate\n",
      "  Attempting uninstall: pyTorchTemplate\n",
      "    Found existing installation: pyTorchTemplate 0.0.1\n",
      "    Uninstalling pyTorchTemplate-0.0.1:\n",
      "      Successfully uninstalled pyTorchTemplate-0.0.1\n",
      "Successfully installed pyTorchTemplate-0.0.1\n"
     ]
    }
   ],
   "source": [
    "!pip install git+https://github.com/kilean20/pyTorchTemplate.git --upgrade"
   ]
  },
  {
   "cell_type": "code",
   "execution_count": 4,
   "metadata": {
    "id": "RSYlem9s37YC"
   },
   "outputs": [],
   "source": [
    "import torch\n",
    "from torch.nn import functional as F\n",
    "device = torch.device(\"cuda\" if torch.cuda.is_available() else \"cpu\")\n",
    "\n",
    "import pyTorchTemplate as ptt"
   ]
  },
  {
   "cell_type": "code",
   "execution_count": 5,
   "metadata": {},
   "outputs": [
    {
     "name": "stdout",
     "output_type": "stream",
     "text": [
      "/global/homes/k/khwang/.local/cori/pytorchv1.4.0/lib/python3.7/site-packages/pyTorchTemplate/__init__.py\n"
     ]
    }
   ],
   "source": [
    "print(ptt.__file__)"
   ]
  },
  {
   "cell_type": "markdown",
   "metadata": {
    "id": "l8CjpFfR-aMC"
   },
   "source": [
    "$$\n",
    "\\begin{eqnarray}\n",
    "\\boldsymbol{R} &=& |\\boldsymbol{x}| \\\\\n",
    "{f} &=& \\frac{\\sin(4\\pi \\boldsymbol{R})}{4\\pi\\boldsymbol{R}}\n",
    "\\end{eqnarray}\n",
    "$$"
   ]
  },
  {
   "cell_type": "code",
   "execution_count": 6,
   "metadata": {
    "id": "4K4iQu8o-no7"
   },
   "outputs": [],
   "source": [
    "ndim = 6\n",
    "nSample = 2048*100"
   ]
  },
  {
   "cell_type": "code",
   "execution_count": 7,
   "metadata": {
    "id": "WvoM8m_E_pkb"
   },
   "outputs": [],
   "source": [
    "def f(x):\n",
    "    \"\"\"The function to predict.\"\"\"\n",
    "    \n",
    "    R = np.sqrt(np.sum(x**2,axis=1)) + 0.0001\n",
    "    return np.sin(4*np.pi*R)/(4*np.pi*R)"
   ]
  },
  {
   "cell_type": "markdown",
   "metadata": {
    "id": "tRliSdTZwjoG"
   },
   "source": [
    "# Prepare data"
   ]
  },
  {
   "cell_type": "code",
   "execution_count": 8,
   "metadata": {
    "id": "1gshQgdxqIw3"
   },
   "outputs": [],
   "source": [
    "x_train = ((np.random.rand(nSample,ndim)-0.5)*2).astype(np.float32)\n",
    "y_train = f(x_train).reshape(-1,1).astype(np.float32)"
   ]
  },
  {
   "cell_type": "code",
   "execution_count": 9,
   "metadata": {},
   "outputs": [
    {
     "data": {
      "image/png": "[encoded data removed]",
      "text/plain": [
       "<Figure size 432x288 with 1 Axes>"
      ]
     },
     "metadata": {
      "needs_background": "light"
     },
     "output_type": "display_data"
    }
   ],
   "source": [
    "hist = plt.hist(y_train,bins=100);\n",
    "plt.xlabel('f')\n",
    "plt.ylabel('count')\n",
    "plt.title('train data histogram')\n",
    "# plt.xlim(yPrior_train.min(),yPrior_train.max())\n",
    "plt.yscale('log')\n",
    "plt.tight_layout()\n",
    "plt.savefig('train_data_histo_'+str(ndim)+'D_'+str(nSample)+'sample.png',dpi=180)"
   ]
  },
  {
   "cell_type": "code",
   "execution_count": 10,
   "metadata": {
    "id": "DFKV2QBHuZ-x"
   },
   "outputs": [],
   "source": [
    "x_onAxis = np.zeros([256,ndim]).astype(np.float32)\n",
    "x_onAxis[:,0] = np.linspace(-1, 1, 256)\n",
    "y_onAxis = f(x_onAxis).reshape(-1,1).astype(np.float32)"
   ]
  },
  {
   "cell_type": "code",
   "execution_count": 11,
   "metadata": {
    "id": "w2llUa3dvCuF"
   },
   "outputs": [],
   "source": [
    "train_data_loader = torch.utils.data.DataLoader(list(zip(x_train,y_train)),batch_size=128*100)"
   ]
  },
  {
   "cell_type": "code",
   "execution_count": 12,
   "metadata": {
    "id": "7Y5AMhJDHwUq"
   },
   "outputs": [],
   "source": [
    "def test(model,criterion,test_data_loader):\n",
    "  model.eval()\n",
    "  loss = 0 \n",
    "  for x, y in test_data_loader:\n",
    "    x = x.to(device)\n",
    "    y_pred = model(x)\n",
    "    loss += criterion(y_pred, y.to(device)).item()\n",
    "  return loss/len(test_data_loader)"
   ]
  },
  {
   "cell_type": "markdown",
   "metadata": {},
   "source": [
    "# MPELoss p=16"
   ]
  },
  {
   "cell_type": "code",
   "execution_count": 13,
   "metadata": {},
   "outputs": [],
   "source": [
    "p=16"
   ]
  },
  {
   "cell_type": "code",
   "execution_count": null,
   "metadata": {
    "colab": {
     "base_uri": "https://localhost:8080/",
     "height": 1000
    },
    "id": "ZaABf7BvIHuP",
    "outputId": "985911f7-86b4-44a4-a3bf-f6a2b7b4cb14"
   },
   "outputs": [
    {
     "name": "stdout",
     "output_type": "stream",
     "text": [
      "epoch : 9/10, train loss = 0.000016\r"
     ]
    }
   ],
   "source": [
    "old_best_loss = 1\n",
    "for i in range(10):\n",
    "  model = ptt.resFCNN([ndim,128,128,1], torch.nn.CELU(inplace=True))\n",
    "  mode,hist = ptt.train_supervised(model,1.0e-2,10,\n",
    "                                  train_data_loader,\n",
    "                                  optimizer=torch.optim.Adam,\n",
    "                                  criterion=ptt.MPELoss(p=p),\n",
    "                                  old_best_loss = old_best_loss,\n",
    "                                  dispHead = 0, dispTail = 0)\n",
    "  tmp = test(model,ptt.MPELoss(p=p),train_data_loader)\n",
    "  if tmp > 1:\n",
    "    continue\n",
    "  mode,hist = ptt.train_supervised(model,2.0e-3,70,\n",
    "                                  train_data_loader,\n",
    "                                  optimizer=torch.optim.Adam,\n",
    "                                  criterion=ptt.MPELoss(p=p),\n",
    "                                  old_hist = hist,\n",
    "                                  old_best_loss = old_best_loss,\n",
    "                                  dispHead = 0, dispTail = 0)\n",
    "  newloss = test(model,ptt.MPELoss(p=p),train_data_loader)\n",
    "  \n",
    "  if newloss < old_best_loss:\n",
    "    old_best_loss = newloss\n",
    "    final_model = copy(model)\n",
    "    final_hist  = copy(hist)\n",
    "    \n",
    "  if newloss < 1e-3:\n",
    "    break\n",
    "    \n",
    "  plt.figure(figsize=(4,2))\n",
    "  plt.semilogy(hist['train_loss'])\n",
    "  plt.semilogy(hist['test_loss'])\n",
    "\n",
    "model = final_model\n",
    "hist = final_hist\n",
    "mode,hist = ptt.train_supervised(model,5.0e-4,80,\n",
    "                                train_data_loader,\n",
    "                                optimizer=torch.optim.Adam,\n",
    "                                criterion=ptt.MPELoss(p=p),\n",
    "                                old_hist = hist,\n",
    "                                old_best_loss = newloss,\n",
    "                                dispHead = 0, dispTail = 0)\n",
    "newloss = test(model,ptt.MPELoss(p=p),train_data_loader)\n",
    "\n",
    "\n",
    "model = model.cpu()\n",
    "model.eval();"
   ]
  },
  {
   "cell_type": "code",
   "execution_count": null,
   "metadata": {},
   "outputs": [],
   "source": [
    "plt.figure(figsize=(4,2))\n",
    "plt.semilogy(hist['train_loss'])\n",
    "plt.semilogy(hist['test_loss'])\n",
    "print(newloss)"
   ]
  },
  {
   "cell_type": "code",
   "execution_count": null,
   "metadata": {
    "colab": {
     "base_uri": "https://localhost:8080/"
    },
    "id": "i5T-w9zGtblJ",
    "outputId": "527094df-abf5-4d1e-f010-d66359000562"
   },
   "outputs": [],
   "source": [
    "model(torch.Tensor(x_train[:10,:])).detach().numpy()"
   ]
  },
  {
   "cell_type": "code",
   "execution_count": null,
   "metadata": {
    "colab": {
     "base_uri": "https://localhost:8080/"
    },
    "id": "19lN2T2EIF7j",
    "outputId": "cb52f25c-943e-44bb-dae9-0a4fe89ee025"
   },
   "outputs": [],
   "source": [
    "f(x_train[:10,:])"
   ]
  },
  {
   "cell_type": "code",
   "execution_count": null,
   "metadata": {
    "id": "1v7rbu9WGAnb"
   },
   "outputs": [],
   "source": [
    "y_onAxis_NN = model(torch.Tensor(x_onAxis)).detach().numpy() "
   ]
  },
  {
   "cell_type": "code",
   "execution_count": null,
   "metadata": {
    "colab": {
     "base_uri": "https://localhost:8080/",
     "height": 282
    },
    "id": "H-IX3QTvzlGq",
    "outputId": "9727261b-7204-4a34-8f7b-37a433295284"
   },
   "outputs": [],
   "source": [
    "fig = plt.figure(figsize=(5,4))\n",
    "\n",
    "plt.plot(x_onAxis[:,0],y_onAxis ,'k' , label='Ground Truth')\n",
    "plt.plot(x_onAxis[:,0],y_onAxis_NN, 'b', label='NN prediction')\n",
    "\n",
    "plt.title('1D slice view of '+str(ndim)+'D problem w L'+str(p)+'-loss')\n",
    "plt.xlabel(r'$x_0$')\n",
    "plt.ylabel(r'$f(x)$')\n",
    "plt.legend(loc='upper right')\n",
    "plt.xlim(-1,1)\n",
    "plt.ylim(-0.4,1.2)\n",
    "plt.xticks([-1,-0.5,0,0.5,1])\n",
    "plt.tight_layout()\n",
    "plt.savefig('NN_'+str(ndim)+'D_L'+str(p)+'-Loss.png',dpi=180)"
   ]
  },
  {
   "cell_type": "code",
   "execution_count": null,
   "metadata": {
    "colab": {
     "base_uri": "https://localhost:8080/"
    },
    "id": "nFAbeznUF196",
    "outputId": "7feabb58-5a55-4184-dd96-a2ef98135196"
   },
   "outputs": [],
   "source": [
    "ptt.count_parameters(model)"
   ]
  },
  {
   "cell_type": "markdown",
   "metadata": {},
   "source": [
    "# MPELoss p=12"
   ]
  },
  {
   "cell_type": "code",
   "execution_count": null,
   "metadata": {},
   "outputs": [],
   "source": [
    "p=12"
   ]
  },
  {
   "cell_type": "code",
   "execution_count": null,
   "metadata": {
    "colab": {
     "base_uri": "https://localhost:8080/",
     "height": 1000
    },
    "id": "ZaABf7BvIHuP",
    "outputId": "985911f7-86b4-44a4-a3bf-f6a2b7b4cb14"
   },
   "outputs": [],
   "source": [
    "old_best_loss = 1\n",
    "for i in range(10):\n",
    "  model = ptt.resFCNN([ndim,128,128,1], torch.nn.CELU(inplace=True))\n",
    "  mode,hist = ptt.train_supervised(model,1.0e-2,10,\n",
    "                                  train_data_loader,\n",
    "                                  optimizer=torch.optim.Adam,\n",
    "                                  criterion=ptt.MPELoss(p=p),\n",
    "                                  old_best_loss = old_best_loss,\n",
    "                                  dispHead = 0, dispTail = 0)\n",
    "  tmp = test(model,ptt.MPELoss(p=p),train_data_loader)\n",
    "  if tmp > 1:\n",
    "    continue\n",
    "  mode,hist = ptt.train_supervised(model,2.0e-3,70,\n",
    "                                  train_data_loader,\n",
    "                                  optimizer=torch.optim.Adam,\n",
    "                                  criterion=ptt.MPELoss(p=p),\n",
    "                                  old_hist = hist,\n",
    "                                  old_best_loss = old_best_loss,\n",
    "                                  dispHead = 0, dispTail = 0)\n",
    "  newloss = test(model,ptt.MPELoss(p=p),train_data_loader)\n",
    "  \n",
    "  if newloss < old_best_loss:\n",
    "    old_best_loss = newloss\n",
    "    final_model = copy(model)\n",
    "    final_hist  = copy(hist)\n",
    "    \n",
    "  if newloss < 1e-3:\n",
    "    break\n",
    "    \n",
    "  plt.figure(figsize=(4,2))\n",
    "  plt.semilogy(hist['train_loss'])\n",
    "  plt.semilogy(hist['test_loss'])\n",
    "\n",
    "model = final_model\n",
    "hist = final_hist\n",
    "mode,hist = ptt.train_supervised(model,5.0e-4,80,\n",
    "                                train_data_loader,\n",
    "                                optimizer=torch.optim.Adam,\n",
    "                                criterion=ptt.MPELoss(p=p),\n",
    "                                old_hist = hist,\n",
    "                                old_best_loss = newloss,\n",
    "                                dispHead = 0, dispTail = 0)\n",
    "newloss = test(model,ptt.MPELoss(p=p),train_data_loader)\n",
    "\n",
    "\n",
    "model = model.cpu()\n",
    "model.eval();"
   ]
  },
  {
   "cell_type": "code",
   "execution_count": null,
   "metadata": {},
   "outputs": [],
   "source": [
    "plt.figure(figsize=(4,2))\n",
    "plt.semilogy(hist['train_loss'])\n",
    "plt.semilogy(hist['test_loss'])\n",
    "print(newloss)"
   ]
  },
  {
   "cell_type": "code",
   "execution_count": null,
   "metadata": {
    "colab": {
     "base_uri": "https://localhost:8080/"
    },
    "id": "i5T-w9zGtblJ",
    "outputId": "527094df-abf5-4d1e-f010-d66359000562"
   },
   "outputs": [],
   "source": [
    "model(torch.Tensor(x_train[:10,:])).detach().numpy()"
   ]
  },
  {
   "cell_type": "code",
   "execution_count": null,
   "metadata": {
    "colab": {
     "base_uri": "https://localhost:8080/"
    },
    "id": "19lN2T2EIF7j",
    "outputId": "cb52f25c-943e-44bb-dae9-0a4fe89ee025"
   },
   "outputs": [],
   "source": [
    "f(x_train[:10,:])"
   ]
  },
  {
   "cell_type": "code",
   "execution_count": null,
   "metadata": {
    "id": "1v7rbu9WGAnb"
   },
   "outputs": [],
   "source": [
    "y_onAxis_NN = model(torch.Tensor(x_onAxis)).detach().numpy() "
   ]
  },
  {
   "cell_type": "code",
   "execution_count": null,
   "metadata": {
    "colab": {
     "base_uri": "https://localhost:8080/",
     "height": 282
    },
    "id": "H-IX3QTvzlGq",
    "outputId": "9727261b-7204-4a34-8f7b-37a433295284"
   },
   "outputs": [],
   "source": [
    "fig = plt.figure(figsize=(5,4))\n",
    "\n",
    "plt.plot(x_onAxis[:,0],y_onAxis ,'k' , label='Ground Truth')\n",
    "plt.plot(x_onAxis[:,0],y_onAxis_NN, 'b', label='NN prediction')\n",
    "\n",
    "plt.title('1D slice view of '+str(ndim)+'D problem w L'+str(p)+'-loss')\n",
    "plt.xlabel(r'$x_0$')\n",
    "plt.ylabel(r'$f(x)$')\n",
    "plt.legend(loc='upper right')\n",
    "plt.xlim(-1,1)\n",
    "plt.ylim(-0.4,1.2)\n",
    "plt.xticks([-1,-0.5,0,0.5,1])\n",
    "plt.tight_layout()\n",
    "plt.savefig('NN_'+str(ndim)+'D_L'+str(p)+'-Loss.png',dpi=180)"
   ]
  },
  {
   "cell_type": "code",
   "execution_count": null,
   "metadata": {
    "colab": {
     "base_uri": "https://localhost:8080/"
    },
    "id": "nFAbeznUF196",
    "outputId": "7feabb58-5a55-4184-dd96-a2ef98135196"
   },
   "outputs": [],
   "source": [
    "ptt.count_parameters(model)"
   ]
  },
  {
   "cell_type": "markdown",
   "metadata": {},
   "source": [
    "# MPELoss p=8"
   ]
  },
  {
   "cell_type": "code",
   "execution_count": null,
   "metadata": {},
   "outputs": [],
   "source": [
    "p=8"
   ]
  },
  {
   "cell_type": "code",
   "execution_count": null,
   "metadata": {
    "colab": {
     "base_uri": "https://localhost:8080/",
     "height": 1000
    },
    "id": "ZaABf7BvIHuP",
    "outputId": "985911f7-86b4-44a4-a3bf-f6a2b7b4cb14"
   },
   "outputs": [],
   "source": [
    "old_best_loss = 1\n",
    "for i in range(10):\n",
    "  model = ptt.resFCNN([ndim,128,128,1], torch.nn.CELU(inplace=True))\n",
    "  mode,hist = ptt.train_supervised(model,1.0e-2,10,\n",
    "                                  train_data_loader,\n",
    "                                  optimizer=torch.optim.Adam,\n",
    "                                  criterion=ptt.MPELoss(p=p),\n",
    "                                  old_best_loss = old_best_loss,\n",
    "                                  dispHead = 0, dispTail = 0)\n",
    "  tmp = test(model,ptt.MPELoss(p=p),train_data_loader)\n",
    "  if tmp > 1:\n",
    "    continue\n",
    "  mode,hist = ptt.train_supervised(model,2.0e-3,70,\n",
    "                                  train_data_loader,\n",
    "                                  optimizer=torch.optim.Adam,\n",
    "                                  criterion=ptt.MPELoss(p=p),\n",
    "                                  old_hist = hist,\n",
    "                                  old_best_loss = old_best_loss,\n",
    "                                  dispHead = 0, dispTail = 0)\n",
    "  newloss = test(model,ptt.MPELoss(p=p),train_data_loader)\n",
    "  \n",
    "  if newloss < old_best_loss:\n",
    "    old_best_loss = newloss\n",
    "    final_model = copy(model)\n",
    "    final_hist  = copy(hist)\n",
    "    \n",
    "  if newloss < 1e-3:\n",
    "    break\n",
    "    \n",
    "  plt.figure(figsize=(4,2))\n",
    "  plt.semilogy(hist['train_loss'])\n",
    "  plt.semilogy(hist['test_loss'])\n",
    "\n",
    "model = final_model\n",
    "hist = final_hist\n",
    "mode,hist = ptt.train_supervised(model,5.0e-4,80,\n",
    "                                train_data_loader,\n",
    "                                optimizer=torch.optim.Adam,\n",
    "                                criterion=ptt.MPELoss(p=p),\n",
    "                                old_hist = hist,\n",
    "                                old_best_loss = newloss,\n",
    "                                dispHead = 0, dispTail = 0)\n",
    "newloss = test(model,ptt.MPELoss(p=p),train_data_loader)\n",
    "\n",
    "\n",
    "model = model.cpu()\n",
    "model.eval();"
   ]
  },
  {
   "cell_type": "code",
   "execution_count": null,
   "metadata": {},
   "outputs": [],
   "source": [
    "plt.figure(figsize=(4,2))\n",
    "plt.semilogy(hist['train_loss'])\n",
    "plt.semilogy(hist['test_loss'])\n",
    "print(newloss)"
   ]
  },
  {
   "cell_type": "code",
   "execution_count": null,
   "metadata": {
    "colab": {
     "base_uri": "https://localhost:8080/"
    },
    "id": "i5T-w9zGtblJ",
    "outputId": "527094df-abf5-4d1e-f010-d66359000562"
   },
   "outputs": [],
   "source": [
    "model(torch.Tensor(x_train[:10,:])).detach().numpy()"
   ]
  },
  {
   "cell_type": "code",
   "execution_count": null,
   "metadata": {
    "colab": {
     "base_uri": "https://localhost:8080/"
    },
    "id": "19lN2T2EIF7j",
    "outputId": "cb52f25c-943e-44bb-dae9-0a4fe89ee025"
   },
   "outputs": [],
   "source": [
    "f(x_train[:10,:])"
   ]
  },
  {
   "cell_type": "code",
   "execution_count": null,
   "metadata": {
    "id": "1v7rbu9WGAnb"
   },
   "outputs": [],
   "source": [
    "y_onAxis_NN = model(torch.Tensor(x_onAxis)).detach().numpy() "
   ]
  },
  {
   "cell_type": "code",
   "execution_count": null,
   "metadata": {
    "colab": {
     "base_uri": "https://localhost:8080/",
     "height": 282
    },
    "id": "H-IX3QTvzlGq",
    "outputId": "9727261b-7204-4a34-8f7b-37a433295284"
   },
   "outputs": [],
   "source": [
    "fig = plt.figure(figsize=(5,4))\n",
    "\n",
    "plt.plot(x_onAxis[:,0],y_onAxis ,'k' , label='Ground Truth')\n",
    "plt.plot(x_onAxis[:,0],y_onAxis_NN, 'b', label='NN prediction')\n",
    "\n",
    "plt.title('1D slice view of '+str(ndim)+'D problem w L'+str(p)+'-loss')\n",
    "plt.xlabel(r'$x_0$')\n",
    "plt.ylabel(r'$f(x)$')\n",
    "plt.legend(loc='upper right')\n",
    "plt.xlim(-1,1)\n",
    "plt.ylim(-0.4,1.2)\n",
    "plt.xticks([-1,-0.5,0,0.5,1])\n",
    "plt.tight_layout()\n",
    "plt.savefig('NN_'+str(ndim)+'D_L'+str(p)+'-Loss.png',dpi=180)"
   ]
  },
  {
   "cell_type": "code",
   "execution_count": null,
   "metadata": {
    "colab": {
     "base_uri": "https://localhost:8080/"
    },
    "id": "nFAbeznUF196",
    "outputId": "7feabb58-5a55-4184-dd96-a2ef98135196"
   },
   "outputs": [],
   "source": [
    "ptt.count_parameters(model)"
   ]
  },
  {
   "cell_type": "markdown",
   "metadata": {},
   "source": [
    "# MPELoss p=4"
   ]
  },
  {
   "cell_type": "code",
   "execution_count": null,
   "metadata": {},
   "outputs": [],
   "source": [
    "p=4"
   ]
  },
  {
   "cell_type": "code",
   "execution_count": null,
   "metadata": {
    "colab": {
     "base_uri": "https://localhost:8080/",
     "height": 1000
    },
    "id": "ZaABf7BvIHuP",
    "outputId": "985911f7-86b4-44a4-a3bf-f6a2b7b4cb14"
   },
   "outputs": [],
   "source": [
    "old_best_loss = 1\n",
    "for i in range(10):\n",
    "  model = ptt.resFCNN([ndim,128,128,1], torch.nn.CELU(inplace=True))\n",
    "  mode,hist = ptt.train_supervised(model,1.0e-2,10,\n",
    "                                  train_data_loader,\n",
    "                                  optimizer=torch.optim.Adam,\n",
    "                                  criterion=ptt.MPELoss(p=p),\n",
    "                                  old_best_loss = old_best_loss,\n",
    "                                  dispHead = 0, dispTail = 0)\n",
    "  tmp = test(model,ptt.MPELoss(p=p),train_data_loader)\n",
    "  if tmp > 1:\n",
    "    continue\n",
    "  mode,hist = ptt.train_supervised(model,2.0e-3,70,\n",
    "                                  train_data_loader,\n",
    "                                  optimizer=torch.optim.Adam,\n",
    "                                  criterion=ptt.MPELoss(p=p),\n",
    "                                  old_hist = hist,\n",
    "                                  old_best_loss = old_best_loss,\n",
    "                                  dispHead = 0, dispTail = 0)\n",
    "  newloss = test(model,ptt.MPELoss(p=p),train_data_loader)\n",
    "  \n",
    "  if newloss < old_best_loss:\n",
    "    old_best_loss = newloss\n",
    "    final_model = copy(model)\n",
    "    final_hist  = copy(hist)\n",
    "    \n",
    "  if newloss < 1e-3:\n",
    "    break\n",
    "    \n",
    "  plt.figure(figsize=(4,2))\n",
    "  plt.semilogy(hist['train_loss'])\n",
    "  plt.semilogy(hist['test_loss'])\n",
    "\n",
    "model = final_model\n",
    "hist = final_hist\n",
    "mode,hist = ptt.train_supervised(model,5.0e-4,80,\n",
    "                                train_data_loader,\n",
    "                                optimizer=torch.optim.Adam,\n",
    "                                criterion=ptt.MPELoss(p=p),\n",
    "                                old_hist = hist,\n",
    "                                old_best_loss = newloss,\n",
    "                                dispHead = 0, dispTail = 0)\n",
    "newloss = test(model,ptt.MPELoss(p=p),train_data_loader)\n",
    "\n",
    "\n",
    "model = model.cpu()\n",
    "model.eval();"
   ]
  },
  {
   "cell_type": "code",
   "execution_count": null,
   "metadata": {},
   "outputs": [],
   "source": [
    "plt.figure(figsize=(4,2))\n",
    "plt.semilogy(hist['train_loss'])\n",
    "plt.semilogy(hist['test_loss'])\n",
    "print(newloss)"
   ]
  },
  {
   "cell_type": "code",
   "execution_count": null,
   "metadata": {
    "colab": {
     "base_uri": "https://localhost:8080/"
    },
    "id": "i5T-w9zGtblJ",
    "outputId": "527094df-abf5-4d1e-f010-d66359000562"
   },
   "outputs": [],
   "source": [
    "model(torch.Tensor(x_train[:10,:])).detach().numpy()"
   ]
  },
  {
   "cell_type": "code",
   "execution_count": null,
   "metadata": {
    "colab": {
     "base_uri": "https://localhost:8080/"
    },
    "id": "19lN2T2EIF7j",
    "outputId": "cb52f25c-943e-44bb-dae9-0a4fe89ee025"
   },
   "outputs": [],
   "source": [
    "f(x_train[:10,:])"
   ]
  },
  {
   "cell_type": "code",
   "execution_count": null,
   "metadata": {
    "id": "1v7rbu9WGAnb"
   },
   "outputs": [],
   "source": [
    "y_onAxis_NN = model(torch.Tensor(x_onAxis)).detach().numpy() "
   ]
  },
  {
   "cell_type": "code",
   "execution_count": null,
   "metadata": {
    "colab": {
     "base_uri": "https://localhost:8080/",
     "height": 282
    },
    "id": "H-IX3QTvzlGq",
    "outputId": "9727261b-7204-4a34-8f7b-37a433295284"
   },
   "outputs": [],
   "source": [
    "fig = plt.figure(figsize=(5,4))\n",
    "\n",
    "plt.plot(x_onAxis[:,0],y_onAxis ,'k' , label='Ground Truth')\n",
    "plt.plot(x_onAxis[:,0],y_onAxis_NN, 'b', label='NN prediction')\n",
    "\n",
    "plt.title('1D slice view of '+str(ndim)+'D problem w L'+str(p)+'-loss')\n",
    "plt.xlabel(r'$x_0$')\n",
    "plt.ylabel(r'$f(x)$')\n",
    "plt.legend(loc='upper right')\n",
    "plt.xlim(-1,1)\n",
    "plt.ylim(-0.4,1.2)\n",
    "plt.xticks([-1,-0.5,0,0.5,1])\n",
    "plt.tight_layout()\n",
    "plt.savefig('NN_'+str(ndim)+'D_L'+str(p)+'-Loss.png',dpi=180)"
   ]
  },
  {
   "cell_type": "code",
   "execution_count": null,
   "metadata": {
    "colab": {
     "base_uri": "https://localhost:8080/"
    },
    "id": "nFAbeznUF196",
    "outputId": "7feabb58-5a55-4184-dd96-a2ef98135196"
   },
   "outputs": [],
   "source": [
    "ptt.count_parameters(model)"
   ]
  },
  {
   "cell_type": "markdown",
   "metadata": {},
   "source": [
    "# MPELoss p=2"
   ]
  },
  {
   "cell_type": "code",
   "execution_count": null,
   "metadata": {},
   "outputs": [],
   "source": [
    "p=2"
   ]
  },
  {
   "cell_type": "code",
   "execution_count": null,
   "metadata": {
    "colab": {
     "base_uri": "https://localhost:8080/",
     "height": 1000
    },
    "id": "ZaABf7BvIHuP",
    "outputId": "985911f7-86b4-44a4-a3bf-f6a2b7b4cb14"
   },
   "outputs": [],
   "source": [
    "old_best_loss = 1\n",
    "for i in range(10):\n",
    "  model = ptt.resFCNN([ndim,128,128,1], torch.nn.CELU(inplace=True))\n",
    "  mode,hist = ptt.train_supervised(model,1.0e-2,10,\n",
    "                                  train_data_loader,\n",
    "                                  optimizer=torch.optim.Adam,\n",
    "                                  criterion=ptt.MPELoss(p=p),\n",
    "                                  old_best_loss = old_best_loss,\n",
    "                                  dispHead = 0, dispTail = 0)\n",
    "  tmp = test(model,ptt.MPELoss(p=p),train_data_loader)\n",
    "  if tmp > 1:\n",
    "    continue\n",
    "  mode,hist = ptt.train_supervised(model,2.0e-3,70,\n",
    "                                  train_data_loader,\n",
    "                                  optimizer=torch.optim.Adam,\n",
    "                                  criterion=ptt.MPELoss(p=p),\n",
    "                                  old_hist = hist,\n",
    "                                  old_best_loss = old_best_loss,\n",
    "                                  dispHead = 0, dispTail = 0)\n",
    "  newloss = test(model,ptt.MPELoss(p=p),train_data_loader)\n",
    "  \n",
    "  if newloss < old_best_loss:\n",
    "    old_best_loss = newloss\n",
    "    final_model = copy(model)\n",
    "    final_hist  = copy(hist)\n",
    "    \n",
    "  if newloss < 1e-3:\n",
    "    break\n",
    "    \n",
    "  plt.figure(figsize=(4,2))\n",
    "  plt.semilogy(hist['train_loss'])\n",
    "  plt.semilogy(hist['test_loss'])\n",
    "\n",
    "model = final_model\n",
    "hist = final_hist\n",
    "mode,hist = ptt.train_supervised(model,5.0e-4,80,\n",
    "                                train_data_loader,\n",
    "                                optimizer=torch.optim.Adam,\n",
    "                                criterion=ptt.MPELoss(p=p),\n",
    "                                old_hist = hist,\n",
    "                                old_best_loss = newloss,\n",
    "                                dispHead = 0, dispTail = 0)\n",
    "newloss = test(model,ptt.MPELoss(p=p),train_data_loader)\n",
    "\n",
    "\n",
    "model = model.cpu()\n",
    "model.eval();"
   ]
  },
  {
   "cell_type": "code",
   "execution_count": null,
   "metadata": {},
   "outputs": [],
   "source": [
    "plt.figure(figsize=(4,2))\n",
    "plt.semilogy(hist['train_loss'])\n",
    "plt.semilogy(hist['test_loss'])\n",
    "print(newloss)"
   ]
  },
  {
   "cell_type": "code",
   "execution_count": null,
   "metadata": {
    "colab": {
     "base_uri": "https://localhost:8080/"
    },
    "id": "i5T-w9zGtblJ",
    "outputId": "527094df-abf5-4d1e-f010-d66359000562"
   },
   "outputs": [],
   "source": [
    "model(torch.Tensor(x_train[:10,:])).detach().numpy()"
   ]
  },
  {
   "cell_type": "code",
   "execution_count": null,
   "metadata": {
    "colab": {
     "base_uri": "https://localhost:8080/"
    },
    "id": "19lN2T2EIF7j",
    "outputId": "cb52f25c-943e-44bb-dae9-0a4fe89ee025"
   },
   "outputs": [],
   "source": [
    "f(x_train[:10,:])"
   ]
  },
  {
   "cell_type": "code",
   "execution_count": null,
   "metadata": {
    "id": "1v7rbu9WGAnb"
   },
   "outputs": [],
   "source": [
    "y_onAxis_NN = model(torch.Tensor(x_onAxis)).detach().numpy() "
   ]
  },
  {
   "cell_type": "code",
   "execution_count": null,
   "metadata": {
    "colab": {
     "base_uri": "https://localhost:8080/",
     "height": 282
    },
    "id": "H-IX3QTvzlGq",
    "outputId": "9727261b-7204-4a34-8f7b-37a433295284"
   },
   "outputs": [],
   "source": [
    "fig = plt.figure(figsize=(5,4))\n",
    "\n",
    "plt.plot(x_onAxis[:,0],y_onAxis ,'k' , label='Ground Truth')\n",
    "plt.plot(x_onAxis[:,0],y_onAxis_NN, 'b', label='NN prediction')\n",
    "\n",
    "plt.title('1D slice view of '+str(ndim)+'D problem w L'+str(p)+'-loss')\n",
    "plt.xlabel(r'$x_0$')\n",
    "plt.ylabel(r'$f(x)$')\n",
    "plt.legend(loc='upper right')\n",
    "plt.xlim(-1,1)\n",
    "plt.ylim(-0.4,1.2)\n",
    "plt.xticks([-1,-0.5,0,0.5,1])\n",
    "plt.tight_layout()\n",
    "plt.savefig('NN_'+str(ndim)+'D_L'+str(p)+'-Loss.png',dpi=180)"
   ]
  },
  {
   "cell_type": "code",
   "execution_count": null,
   "metadata": {
    "colab": {
     "base_uri": "https://localhost:8080/"
    },
    "id": "nFAbeznUF196",
    "outputId": "7feabb58-5a55-4184-dd96-a2ef98135196"
   },
   "outputs": [],
   "source": [
    "ptt.count_parameters(model)"
   ]
  }
 ],
 "metadata": {
  "colab": {
   "collapsed_sections": [],
   "name": "GaussianProcess6Dto2D_autoEncoder_randn.ipynb",
   "provenance": []
  },
  "kernelspec": {
   "display_name": "pytorch-v1.4.0",
   "language": "python",
   "name": "pytorch-v1.4.0"
  },
  "language_info": {
   "codemirror_mode": {
    "name": "ipython",
    "version": 3
   },
   "file_extension": ".py",
   "mimetype": "text/x-python",
   "name": "python",
   "nbconvert_exporter": "python",
   "pygments_lexer": "ipython3",
   "version": "3.7.6"
  }
 },
 "nbformat": 4,
 "nbformat_minor": 4
}
