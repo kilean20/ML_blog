{
 "cells": [
  {
   "cell_type": "code",
   "execution_count": 1,
   "metadata": {
    "colab": {
     "base_uri": "https://localhost:8080/"
    },
    "id": "HmmwBycvy9s4",
    "outputId": "ea72eea8-0ecf-4564-95de-100f2766c097"
   },
   "outputs": [
    {
     "name": "stdout",
     "output_type": "stream",
     "text": [
      "Collecting git+https://github.com/kilean20/pyTorchTemplate.git\n",
      "  Cloning https://github.com/kilean20/pyTorchTemplate.git to /tmp/pip-req-build-1j0jec2q\n",
      "  Running command git clone -q https://github.com/kilean20/pyTorchTemplate.git /tmp/pip-req-build-1j0jec2q\n",
      "Requirement already satisfied (use --upgrade to upgrade): pyTorchTemplate==0.0.1 from git+https://github.com/kilean20/pyTorchTemplate.git in /global/u1/k/khwang/ML/pyTorchTemplate\n",
      "Building wheels for collected packages: pyTorchTemplate\n",
      "  Building wheel for pyTorchTemplate (setup.py) ... \u001b[?25ldone\n",
      "\u001b[?25h  Created wheel for pyTorchTemplate: filename=pyTorchTemplate-0.0.1-py3-none-any.whl size=6496 sha256=22e99872cc604506cc37bc56e7888b74acea3abfcdd68330f1b41405a98c8669\n",
      "  Stored in directory: /tmp/pip-ephem-wheel-cache-k2ke1sr9/wheels/15/b3/6d/10ca0e96789eddf8cbd29d87914215e75608e6930926678261\n",
      "Successfully built pyTorchTemplate\n"
     ]
    }
   ],
   "source": [
    "!pip install --user git+https://github.com/kilean20/pyTorchTemplate.git"
   ]
  },
  {
   "cell_type": "code",
   "execution_count": 2,
   "metadata": {
    "id": "_OQQO34QzYFo"
   },
   "outputs": [],
   "source": [
    "import torch\n",
    "from torch.nn import functional as F\n",
    "import numpy as np\n",
    "import matplotlib.pyplot as plt\n",
    "from copy import deepcopy as copy"
   ]
  },
  {
   "cell_type": "code",
   "execution_count": 3,
   "metadata": {
    "id": "rMQJSVRmFDTq"
   },
   "outputs": [],
   "source": [
    "import pyTorchTemplate as ptt\n",
    "device = ptt.device"
   ]
  },
  {
   "cell_type": "code",
   "execution_count": 4,
   "metadata": {},
   "outputs": [],
   "source": [
    "from sklearn.gaussian_process import GaussianProcessRegressor\n",
    "from sklearn.gaussian_process.kernels import RBF, ConstantKernel as C"
   ]
  },
  {
   "cell_type": "code",
   "execution_count": 5,
   "metadata": {
    "id": "2wzEXS-3t3qh"
   },
   "outputs": [],
   "source": [
    "nsample = 16\n",
    "nensemble = 16\n",
    "nModel = 16\n",
    "nodes = [1,512,512,1]"
   ]
  },
  {
   "cell_type": "markdown",
   "metadata": {
    "id": "_Gh8H0ED1h6O"
   },
   "source": [
    "# Targets"
   ]
  },
  {
   "cell_type": "code",
   "execution_count": 6,
   "metadata": {
    "id": "kwK71oJR1sDN"
   },
   "outputs": [],
   "source": [
    "from scipy.special import airy\n",
    "\n",
    "def func(x):\n",
    "  return np.sin(np.pi*4*x)"
   ]
  },
  {
   "cell_type": "code",
   "execution_count": 7,
   "metadata": {
    "colab": {
     "base_uri": "https://localhost:8080/",
     "height": 369
    },
    "id": "zUAe-S154x9l",
    "outputId": "7437ff59-560f-4b88-fcf8-50191914417e"
   },
   "outputs": [
    {
     "data": {
      "image/png": "[encoded data removed]",
      "text/plain": [
       "<Figure size 432x288 with 1 Axes>"
      ]
     },
     "metadata": {
      "needs_background": "light"
     },
     "output_type": "display_data"
    }
   ],
   "source": [
    "train_input = (np.random.rand(nsample)*2.0-1.0).reshape(-1,1).astype(np.float32)\n",
    "train_output = func(train_input)\n",
    "\n",
    "test_input = np.linspace(-1, 1, 512).reshape(-1,1).astype(np.float32)\n",
    "test_output = func(test_input)\n",
    "\n",
    "train_data_loader = torch.utils.data.DataLoader(list(zip(train_input,train_output)), batch_size=nsample, shuffle=False)\n",
    "test_data_loader = torch.utils.data.DataLoader(list(zip(test_input,test_output)), batch_size=512, shuffle=False) \n",
    "\n",
    "for x,y in test_data_loader:\n",
    "    plt.plot(x,y,c='k')\n",
    "    \n",
    "for x,y in train_data_loader:\n",
    "    plt.scatter(x,y)        "
   ]
  },
  {
   "cell_type": "markdown",
   "metadata": {
    "id": "vFoQB75DKZwd"
   },
   "source": [
    "# GP"
   ]
  },
  {
   "cell_type": "code",
   "execution_count": 8,
   "metadata": {},
   "outputs": [],
   "source": [
    "kernel = C(0.2, (1e-3, 1e3)) * RBF(1, (1e-2, 1e3))\n",
    "gp = GaussianProcessRegressor(kernel=kernel, n_restarts_optimizer=9)"
   ]
  },
  {
   "cell_type": "code",
   "execution_count": 9,
   "metadata": {},
   "outputs": [
    {
     "data": {
      "text/plain": [
       "(-0.005355846345763249, -1.2522545222992676e-09)"
      ]
     },
     "execution_count": 9,
     "metadata": {},
     "output_type": "execute_result"
    }
   ],
   "source": [
    "gp.score(train_input,train_output), gp.score(test_input,test_output)"
   ]
  },
  {
   "cell_type": "code",
   "execution_count": 10,
   "metadata": {},
   "outputs": [
    {
     "name": "stderr",
     "output_type": "stream",
     "text": [
      "/usr/common/software/pytorch/v1.4.0/lib/python3.7/site-packages/sklearn/gaussian_process/_gpr.py:494: ConvergenceWarning: lbfgs failed to converge (status=2):\n",
      "ABNORMAL_TERMINATION_IN_LNSRCH.\n",
      "\n",
      "Increase the number of iterations (max_iter) or scale the data as shown in:\n",
      "    https://scikit-learn.org/stable/modules/preprocessing.html\n",
      "  _check_optimize_result(\"lbfgs\", opt_res)\n"
     ]
    },
    {
     "data": {
      "text/plain": [
       "2.7**2 * RBF(length_scale=0.23)"
      ]
     },
     "execution_count": 10,
     "metadata": {},
     "output_type": "execute_result"
    }
   ],
   "source": [
    "gp.fit(train_input, train_output)\n",
    "gp.kernel_"
   ]
  },
  {
   "cell_type": "code",
   "execution_count": 11,
   "metadata": {},
   "outputs": [
    {
     "data": {
      "text/plain": [
       "(0.9999999999996485, 0.9533334066265277)"
      ]
     },
     "execution_count": 11,
     "metadata": {},
     "output_type": "execute_result"
    }
   ],
   "source": [
    "gp.score(train_input,train_output), gp.score(test_input,test_output)"
   ]
  },
  {
   "cell_type": "code",
   "execution_count": 12,
   "metadata": {},
   "outputs": [
    {
     "name": "stderr",
     "output_type": "stream",
     "text": [
      "/usr/common/software/pytorch/v1.4.0/lib/python3.7/site-packages/sklearn/gaussian_process/_gpr.py:362: UserWarning: Predicted variances smaller than 0. Setting those variances to 0.\n",
      "  warnings.warn(\"Predicted variances smaller than 0. \"\n"
     ]
    }
   ],
   "source": [
    "gp_predict_mean, gp_predict_std = gp.predict(test_input, return_std=True)\n",
    "gp_predict_mean = gp_predict_mean.reshape(-1)"
   ]
  },
  {
   "cell_type": "code",
   "execution_count": 13,
   "metadata": {},
   "outputs": [
    {
     "data": {
      "image/png": "[encoded data removed]",
      "text/plain": [
       "<Figure size 288x216 with 1 Axes>"
      ]
     },
     "metadata": {
      "needs_background": "light"
     },
     "output_type": "display_data"
    }
   ],
   "source": [
    "plt.figure(figsize=(4,3))\n",
    "\n",
    "plt.plot(test_input,test_output,label='ground true',lw=1,c='k')\n",
    "plt.fill_between(test_input[:,0], \n",
    "                 gp_predict_mean + 1.96*gp_predict_std, \n",
    "                 gp_predict_mean - 1.96*gp_predict_std, alpha=0.2, label='uncertainty')\n",
    "plt.plot(test_input,gp_predict_mean,label='Mean')\n",
    "plt.scatter(train_input,train_output,c='k',label='model on training')\n",
    "\n",
    "# plt.legend()\n",
    "plt.title('Posterior from GP')\n",
    "plt.xlabel('x');\n",
    "plt.ylabel('f(x)');\n",
    "plt.legend([])\n",
    "plt.tight_layout()\n",
    "plt.savefig('GP.png',dpi=180)"
   ]
  },
  {
   "cell_type": "markdown",
   "metadata": {
    "id": "xP7fdarl1Hla"
   },
   "source": [
    "# NNensemble (ReLU)"
   ]
  },
  {
   "cell_type": "code",
   "execution_count": 14,
   "metadata": {},
   "outputs": [],
   "source": [
    "def test(model,test_data_loader):\n",
    "    model.eval()\n",
    "    loss = 0 \n",
    "    for x, y in test_data_loader:\n",
    "        x = x.to(device)\n",
    "        y_pred = model(x)\n",
    "        loss += torch.nn.MSELoss()(y_pred, y.to(device)).item()\n",
    "    return loss/len(test_data_loader)"
   ]
  },
  {
   "cell_type": "code",
   "execution_count": null,
   "metadata": {
    "id": "baxXctpcE2Uw"
   },
   "outputs": [
    {
     "name": "stdout",
     "output_type": "stream",
     "text": [
      "0 0.45038333535194397in loss = 0.000138\n",
      "1 0.4450874924659729ain loss = 0.000080\n",
      "2 0.4606145918369293ain loss = 0.000094\n",
      "3 0.44363391399383545in loss = 0.000107\n",
      "4 0.39394059777259827in loss = 0.000033\n",
      "5 0.39142727851867676in loss = 0.000030\n",
      "6 0.36636078357696533in loss = 0.000002\n",
      "epoch : 10/1000, train loss = 0.106936\r"
     ]
    }
   ],
   "source": [
    "model_outputs = [0]*nModel\n",
    "model_test_outputs = [0]*nModel\n",
    "Hist = [0]*nModel\n",
    "\n",
    "for i in range(nModel):\n",
    "    model = ptt.FCNN(nodes=nodes, activation=torch.nn.ReLU(inplace=True),dropout_p=0)\n",
    "    old_best_loss = 10\n",
    "    for j in range(8):\n",
    "        mode,hist = ptt.train_supervised(model, 1.0e-2,1000,\n",
    "                                         train_data_loader,\n",
    "                                         criterion=torch.nn.MSELoss(),\n",
    "                                         old_best_loss = old_best_loss,\n",
    "                                         dispHead = 0, dispTail = 0)\n",
    "\n",
    "        newloss = test(model,test_data_loader)\n",
    "        print(j,newloss)\n",
    "\n",
    "        if newloss < old_best_loss:\n",
    "            old_best_loss = newloss\n",
    "            final_model = copy(model)\n",
    "            final_hist  = copy(hist)\n",
    "\n",
    "        if newloss < 2e-3:\n",
    "            break\n",
    "\n",
    "    model = final_model\n",
    "    hist = final_hist\n",
    "    mode,hist = ptt.train_supervised(model,2.0e-4,2000,\n",
    "                                     train_data_loader,\n",
    "                                     old_hist = hist,\n",
    "                                     criterion=torch.nn.MSELoss(),\n",
    "                                     old_best_loss = newloss,\n",
    "                                     dispHead = 0, dispTail = 0)\n",
    "    Hist[i]=hist\n",
    "    model_outputs[i] = []\n",
    "    model_test_outputs[i] = []\n",
    "\n",
    "    model.eval()  \n",
    "    with torch.no_grad():\n",
    "        for x,y in train_data_loader:\n",
    "            surrogate_y = model(x.to(device))\n",
    "            model_outputs[i] = model_outputs[i] + surrogate_y.cpu().tolist()\n",
    "\n",
    "        for x,y in test_data_loader:  \n",
    "            surrogate_y = model(x.to(device))\n",
    "            model_test_outputs[i] = model_test_outputs[i] + surrogate_y.tolist()"
   ]
  },
  {
   "cell_type": "code",
   "execution_count": null,
   "metadata": {
    "id": "s4U6RvKfxImn"
   },
   "outputs": [],
   "source": [
    "for hist in Hist:\n",
    "  ptt.plot.history(hist)\n",
    "plt.legend([])\n",
    "plt.tight_layout()\n",
    "plt.savefig('NNensemble_ReLU_hist.png',dpi=180)"
   ]
  },
  {
   "cell_type": "code",
   "execution_count": null,
   "metadata": {
    "id": "zufKbWZVD4Tw"
   },
   "outputs": [],
   "source": [
    "model_test_outputs = np.array(model_test_outputs)\n",
    "model_test_outputs_mean = np.mean(model_test_outputs,axis=0).reshape(-1,1)\n",
    "model_test_outputs_std  = np.std(model_test_outputs,axis=0).reshape(-1,1)"
   ]
  },
  {
   "cell_type": "code",
   "execution_count": null,
   "metadata": {
    "colab": {
     "base_uri": "https://localhost:8080/",
     "height": 313
    },
    "id": "CdwWzEopb956",
    "outputId": "a9cc0368-4587-414e-d9b5-1bd5aefd9dd2"
   },
   "outputs": [],
   "source": [
    "plt.figure(figsize=(4,3))\n",
    "\n",
    "plt.plot(test_input,test_output,label='ground true',lw=1,c='k')\n",
    "plt.fill_between(test_input[:,0], \n",
    "                 model_test_outputs_mean[:,0] + 1.96*model_test_outputs_std[:,0], \n",
    "                 model_test_outputs_mean[:,0] - 1.96*model_test_outputs_std[:,0], alpha=0.2, label='uncertainty')\n",
    "plt.plot(test_input,model_test_outputs_mean,label='Mean')\n",
    "plt.scatter(train_input,train_output,c='k',label='model on training')\n",
    "plt.xlabel('x');\n",
    "plt.ylabel('f(x)');\n",
    "plt.legend()\n",
    "plt.title('Posterior from NN ensemble')\n",
    "plt.tight_layout()\n",
    "plt.savefig('NNensemble_ReLU.png',dpi=180)"
   ]
  },
  {
   "cell_type": "markdown",
   "metadata": {},
   "source": [
    "# NNensemble (CELU)"
   ]
  },
  {
   "cell_type": "code",
   "execution_count": null,
   "metadata": {},
   "outputs": [],
   "source": [
    "odel_outputs = [0]*nModel\n",
    "model_test_outputs = [0]*nModel\n",
    "Hist = [0]*nModel\n",
    "\n",
    "for i in range(nModel):\n",
    "    model = ptt.FCNN(nodes=nodes, activation=torch.nn.CELU(inplace=True),dropout_p=0)\n",
    "    old_best_loss = 10\n",
    "    for j in range(8):\n",
    "        mode,hist = ptt.train_supervised(model, 1.0e-2, 1000,\n",
    "                                         train_data_loader,\n",
    "                                         criterion=torch.nn.MSELoss(),\n",
    "                                         old_best_loss = old_best_loss,\n",
    "                                         dispHead = 0, dispTail = 0)\n",
    "\n",
    "        newloss = test(model,test_data_loader)\n",
    "        print(j,newloss)\n",
    "\n",
    "        if newloss < old_best_loss:\n",
    "            old_best_loss = newloss\n",
    "            final_model = copy(model)\n",
    "            final_hist  = copy(hist)\n",
    "\n",
    "        if newloss < 2e-3:\n",
    "            break\n",
    "\n",
    "    model = final_model\n",
    "    hist = final_hist\n",
    "    mode,hist = ptt.train_supervised(model,2.0e-4,2000,\n",
    "                                     train_data_loader,\n",
    "                                     old_hist = hist,\n",
    "                                     criterion=torch.nn.MSELoss(),\n",
    "                                     old_best_loss = newloss,\n",
    "                                     dispHead = 0, dispTail = 0)\n",
    "    Hist[i]=hist\n",
    "    model_outputs[i] = []\n",
    "    model_test_outputs[i] = []\n",
    "\n",
    "    model.eval()  \n",
    "    with torch.no_grad():\n",
    "        for x,y in train_data_loader:\n",
    "            surrogate_y = model(x.to(device))\n",
    "            model_outputs[i] = model_outputs[i] + surrogate_y.cpu().tolist()\n",
    "\n",
    "        for x,y in test_data_loader:  \n",
    "            surrogate_y = model(x.to(device))\n",
    "            model_test_outputs[i] = model_test_outputs[i] + surrogate_y.tolist()"
   ]
  },
  {
   "cell_type": "code",
   "execution_count": null,
   "metadata": {},
   "outputs": [],
   "source": [
    "for hist in Hist:\n",
    "  ptt.plot.history(hist)\n",
    "plt.legend([])\n",
    "plt.tight_layout()\n",
    "plt.savefig('NNensemble_CELU_hist.png',dpi=180)"
   ]
  },
  {
   "cell_type": "code",
   "execution_count": null,
   "metadata": {},
   "outputs": [],
   "source": [
    "plt.figure(figsize=(4,3))\n",
    "\n",
    "plt.plot(test_input,test_output,label='ground true',lw=1,c='k')\n",
    "plt.fill_between(test_input[:,0], \n",
    "                 model_test_outputs_mean[:,0] + 1.96*model_test_outputs_std[:,0], \n",
    "                 model_test_outputs_mean[:,0] - 1.96*model_test_outputs_std[:,0], alpha=0.2, label='uncertainty')\n",
    "plt.plot(test_input,model_test_outputs_mean,label='Mean')\n",
    "plt.scatter(train_input,train_output,c='k',label='model on training')\n",
    "plt.xlabel('x');\n",
    "plt.ylabel('f(x)');\n",
    "plt.legend()\n",
    "plt.title('Posterior from NN ensemble')\n",
    "plt.tight_layout()\n",
    "plt.savefig('NNensemble_CELU.png',dpi=180)"
   ]
  }
 ],
 "metadata": {
  "accelerator": "GPU",
  "colab": {
   "collapsed_sections": [],
   "name": "[test][NNensemble_512_512]1D_inout.ipynb",
   "provenance": []
  },
  "kernelspec": {
   "display_name": "pytorch-v1.4.0",
   "language": "python",
   "name": "pytorch-v1.4.0"
  },
  "language_info": {
   "codemirror_mode": {
    "name": "ipython",
    "version": 3
   },
   "file_extension": ".py",
   "mimetype": "text/x-python",
   "name": "python",
   "nbconvert_exporter": "python",
   "pygments_lexer": "ipython3",
   "version": "3.7.6"
  }
 },
 "nbformat": 4,
 "nbformat_minor": 4
}
