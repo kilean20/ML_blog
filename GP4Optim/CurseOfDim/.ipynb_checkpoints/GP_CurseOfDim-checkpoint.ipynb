{
 "cells": [
  {
   "cell_type": "code",
   "execution_count": 1,
   "metadata": {},
   "outputs": [],
   "source": [
    "import numpy as np\n",
    "\n",
    "from sklearn.gaussian_process import GaussianProcessRegressor\n",
    "from sklearn.gaussian_process.kernels import RBF, ConstantKernel as C\n",
    "\n",
    "# np.random.seed(1)"
   ]
  },
  {
   "cell_type": "code",
   "execution_count": 2,
   "metadata": {},
   "outputs": [],
   "source": [
    "import torch"
   ]
  },
  {
   "cell_type": "code",
   "execution_count": 3,
   "metadata": {},
   "outputs": [],
   "source": [
    "import matplotlib.pyplot as plt"
   ]
  },
  {
   "cell_type": "code",
   "execution_count": 4,
   "metadata": {},
   "outputs": [],
   "source": [
    "n = 1024  #number of samples"
   ]
  },
  {
   "cell_type": "markdown",
   "metadata": {},
   "source": [
    "# Function to fit\n",
    "\n",
    "$$\n",
    "\\begin{eqnarray}\n",
    "R &=& |\\boldsymbol{x}| \\\\\n",
    "{f} &=& \\frac{\\sin(4\\pi R)}{4\\pi R}\n",
    "\\end{eqnarray}\n",
    "$$"
   ]
  },
  {
   "cell_type": "code",
   "execution_count": 5,
   "metadata": {},
   "outputs": [],
   "source": [
    "def f(x):\n",
    "    \"\"\"The function to predict.\"\"\"\n",
    "    \n",
    "    R = np.sqrt(np.sum(x**2,axis=1)) + 0.0001\n",
    "    return np.sin(4*np.pi*R)/(4*np.pi*R)"
   ]
  },
  {
   "cell_type": "markdown",
   "metadata": {},
   "source": [
    "# 3D"
   ]
  },
  {
   "cell_type": "code",
   "execution_count": 14,
   "metadata": {},
   "outputs": [],
   "source": [
    "d = 3"
   ]
  },
  {
   "cell_type": "code",
   "execution_count": 15,
   "metadata": {},
   "outputs": [],
   "source": [
    "x_train = (np.random.rand(n,d)-0.5)*2\n",
    "y_train = f(x_train)\n",
    "\n",
    "x_test = (np.random.rand(n,d)-0.5)*2\n",
    "y_test = f(x_test)\n",
    "\n",
    "x_onAxis = np.zeros([128,d])\n",
    "x_onAxis[:,0] = np.linspace(-1, 1, 128)\n",
    "y_onAxis = f(x_onAxis)"
   ]
  },
  {
   "cell_type": "code",
   "execution_count": 16,
   "metadata": {},
   "outputs": [],
   "source": [
    "kernel = C(1.0, (2e-2, 10.0)) * RBF(1, (2e-2, 1.0))\n",
    "gp = GaussianProcessRegressor(kernel=kernel, n_restarts_optimizer=3)"
   ]
  },
  {
   "cell_type": "code",
   "execution_count": 17,
   "metadata": {},
   "outputs": [
    {
     "data": {
      "text/plain": [
       "(-3.598041745211944e-05, -0.00010745595471073344)"
      ]
     },
     "execution_count": 17,
     "metadata": {},
     "output_type": "execute_result"
    }
   ],
   "source": [
    "gp.score(x_train, y_train), gp.score(x_test, y_test)"
   ]
  },
  {
   "cell_type": "code",
   "execution_count": 18,
   "metadata": {},
   "outputs": [
    {
     "data": {
      "text/plain": [
       "0.31**2 * RBF(length_scale=0.287)"
      ]
     },
     "execution_count": 18,
     "metadata": {},
     "output_type": "execute_result"
    }
   ],
   "source": [
    "gp.fit(x_train, y_train)\n",
    "gp.kernel_"
   ]
  },
  {
   "cell_type": "code",
   "execution_count": 19,
   "metadata": {},
   "outputs": [
    {
     "data": {
      "text/plain": [
       "(0.9999999999996961, 0.987889301532579)"
      ]
     },
     "execution_count": 19,
     "metadata": {},
     "output_type": "execute_result"
    }
   ],
   "source": [
    "gp.score(x_train, y_train), gp.score(x_test, y_test)  \n",
    "# score over test data after train can become even worse when train data is not enough !!"
   ]
  },
  {
   "cell_type": "code",
   "execution_count": 20,
   "metadata": {},
   "outputs": [],
   "source": [
    "y_pred, sigma = gp.predict(x_onAxis, return_std=True)"
   ]
  },
  {
   "cell_type": "code",
   "execution_count": 21,
   "metadata": {
    "scrolled": true
   },
   "outputs": [
    {
     "data": {
      "image/png": "[encoded data removed]",
      "text/plain": [
       "<Figure size 360x288 with 1 Axes>"
      ]
     },
     "metadata": {
      "needs_background": "light"
     },
     "output_type": "display_data"
    }
   ],
   "source": [
    "fig = plt.figure(figsize=(5,4))\n",
    "ax = fig.add_subplot(111)\n",
    "\n",
    "ax.plot(x_onAxis[:,0],y_onAxis ,'k', label='Ground Truth')\n",
    "ax.plot(x_onAxis[:,0],y_pred,   'b-', label='Prediction')\n",
    "ax.fill_between(x_onAxis[:,0], y_pred- 1.96 * sigma,\n",
    "                               y_pred+ 1.96 * sigma, \n",
    "                label='95% confidence interval', color='C0', alpha=.5, )\n",
    "\n",
    "plt.title('1D slice view of '+str(d)+'D problem')\n",
    "plt.xlabel(r'$x_0$')\n",
    "plt.ylabel(r'$f(x)$')\n",
    "plt.legend(loc='upper right')\n",
    "plt.tight_layout()\n",
    "plt.xlim(-1,1)\n",
    "plt.ylim(-0.4,1.2)\n",
    "plt.xticks([-1,-0.5,0,0.5,1])\n",
    "plt.savefig('GP'+str(d)+'D_'+str(n)+'sample.png',dpi=180)"
   ]
  },
  {
   "cell_type": "markdown",
   "metadata": {},
   "source": [
    "# 4D"
   ]
  },
  {
   "cell_type": "code",
   "execution_count": 22,
   "metadata": {},
   "outputs": [],
   "source": [
    "d = 4"
   ]
  },
  {
   "cell_type": "code",
   "execution_count": 23,
   "metadata": {},
   "outputs": [],
   "source": [
    "x_train = (np.random.rand(n,d)-0.5)*2\n",
    "y_train = f(x_train)\n",
    "\n",
    "x_test = (np.random.rand(n,d)-0.5)*2\n",
    "y_test = f(x_test)\n",
    "\n",
    "x_onAxis = np.zeros([128,d])\n",
    "x_onAxis[:,0] = np.linspace(-1, 1, 128)\n",
    "y_onAxis = f(x_onAxis)"
   ]
  },
  {
   "cell_type": "code",
   "execution_count": 24,
   "metadata": {},
   "outputs": [],
   "source": [
    "kernel = C(1.0, (2e-2, 10.0)) * RBF(1, (2e-2, 1.0))\n",
    "gp = GaussianProcessRegressor(kernel=kernel, n_restarts_optimizer=3)"
   ]
  },
  {
   "cell_type": "code",
   "execution_count": 25,
   "metadata": {},
   "outputs": [
    {
     "data": {
      "text/plain": [
       "(-0.0001720004253791263, -0.00027989821936325043)"
      ]
     },
     "execution_count": 25,
     "metadata": {},
     "output_type": "execute_result"
    }
   ],
   "source": [
    "gp.score(x_train, y_train), gp.score(x_test, y_test)"
   ]
  },
  {
   "cell_type": "code",
   "execution_count": 26,
   "metadata": {},
   "outputs": [
    {
     "data": {
      "text/plain": [
       "0.141**2 * RBF(length_scale=0.238)"
      ]
     },
     "execution_count": 26,
     "metadata": {},
     "output_type": "execute_result"
    }
   ],
   "source": [
    "gp.fit(x_train, y_train)\n",
    "gp.kernel_"
   ]
  },
  {
   "cell_type": "code",
   "execution_count": 27,
   "metadata": {},
   "outputs": [
    {
     "data": {
      "text/plain": [
       "(0.9999999999999994, -0.06386134053497639)"
      ]
     },
     "execution_count": 27,
     "metadata": {},
     "output_type": "execute_result"
    }
   ],
   "source": [
    "gp.score(x_train, y_train), gp.score(x_test, y_test)  \n",
    "# score over test data after train can become even worse when train data is not enough !!"
   ]
  },
  {
   "cell_type": "code",
   "execution_count": 28,
   "metadata": {},
   "outputs": [],
   "source": [
    "y_pred, sigma = gp.predict(x_onAxis, return_std=True)"
   ]
  },
  {
   "cell_type": "code",
   "execution_count": 29,
   "metadata": {
    "scrolled": true
   },
   "outputs": [
    {
     "data": {
      "image/png": "[encoded data removed]",
      "text/plain": [
       "<Figure size 360x288 with 1 Axes>"
      ]
     },
     "metadata": {
      "needs_background": "light"
     },
     "output_type": "display_data"
    }
   ],
   "source": [
    "fig = plt.figure(figsize=(5,4))\n",
    "ax = fig.add_subplot(111)\n",
    "\n",
    "ax.plot(x_onAxis[:,0],y_onAxis ,'k', label='Ground Truth')\n",
    "ax.plot(x_onAxis[:,0],y_pred,   'b-', label='Prediction')\n",
    "ax.fill_between(x_onAxis[:,0], y_pred- 1.96 * sigma,\n",
    "                               y_pred+ 1.96 * sigma, \n",
    "                label='95% confidence interval', color='C0', alpha=.5, )\n",
    "\n",
    "plt.title('1D slice view of '+str(d)+'D problem')\n",
    "plt.xlabel(r'$x_0$')\n",
    "plt.ylabel(r'$f(x)$')\n",
    "plt.legend(loc='upper right')\n",
    "plt.tight_layout()\n",
    "plt.xlim(-1,1)\n",
    "plt.ylim(-0.4,1.2)\n",
    "plt.xticks([-1,-0.5,0,0.5,1])\n",
    "plt.savefig('GP'+str(d)+'D_'+str(n)+'sample.png',dpi=180)"
   ]
  },
  {
   "cell_type": "markdown",
   "metadata": {},
   "source": [
    "# 6D"
   ]
  },
  {
   "cell_type": "code",
   "execution_count": 30,
   "metadata": {},
   "outputs": [],
   "source": [
    "d = 6"
   ]
  },
  {
   "cell_type": "code",
   "execution_count": 31,
   "metadata": {},
   "outputs": [],
   "source": [
    "x_train = (np.random.rand(n,d)-0.5)*2\n",
    "y_train = f(x_train)\n",
    "\n",
    "x_test = (np.random.rand(n,d)-0.5)*2\n",
    "y_test = f(x_test)\n",
    "\n",
    "x_onAxis = np.zeros([128,d])\n",
    "x_onAxis[:,0] = np.linspace(-1, 1, 128)\n",
    "y_onAxis = f(x_onAxis)"
   ]
  },
  {
   "cell_type": "code",
   "execution_count": 32,
   "metadata": {},
   "outputs": [],
   "source": [
    "kernel = C(1.0, (2e-2, 10.0)) * RBF(1, (2e-2, 1.0))\n",
    "gp = GaussianProcessRegressor(kernel=kernel, n_restarts_optimizer=3)"
   ]
  },
  {
   "cell_type": "code",
   "execution_count": 33,
   "metadata": {},
   "outputs": [
    {
     "data": {
      "text/plain": [
       "(-0.001195169366565274, -8.490250706083557e-05)"
      ]
     },
     "execution_count": 33,
     "metadata": {},
     "output_type": "execute_result"
    }
   ],
   "source": [
    "gp.score(x_train, y_train), gp.score(x_test, y_test)"
   ]
  },
  {
   "cell_type": "code",
   "execution_count": 34,
   "metadata": {},
   "outputs": [
    {
     "data": {
      "text/plain": [
       "0.141**2 * RBF(length_scale=0.505)"
      ]
     },
     "execution_count": 34,
     "metadata": {},
     "output_type": "execute_result"
    }
   ],
   "source": [
    "gp.fit(x_train, y_train)\n",
    "gp.kernel_"
   ]
  },
  {
   "cell_type": "code",
   "execution_count": 35,
   "metadata": {},
   "outputs": [
    {
     "data": {
      "text/plain": [
       "(0.9999999999999977, -0.9990616268929023)"
      ]
     },
     "execution_count": 35,
     "metadata": {},
     "output_type": "execute_result"
    }
   ],
   "source": [
    "gp.score(x_train, y_train), gp.score(x_test, y_test)  \n",
    "# score over test data after train can become even worse when train data is not enough !!"
   ]
  },
  {
   "cell_type": "code",
   "execution_count": 36,
   "metadata": {},
   "outputs": [],
   "source": [
    "y_pred, sigma = gp.predict(x_onAxis, return_std=True)"
   ]
  },
  {
   "cell_type": "code",
   "execution_count": 37,
   "metadata": {
    "scrolled": false
   },
   "outputs": [
    {
     "data": {
      "image/png": "[encoded data removed]",
      "text/plain": [
       "<Figure size 360x288 with 1 Axes>"
      ]
     },
     "metadata": {
      "needs_background": "light"
     },
     "output_type": "display_data"
    }
   ],
   "source": [
    "fig = plt.figure(figsize=(5,4))\n",
    "ax = fig.add_subplot(111)\n",
    "\n",
    "ax.plot(x_onAxis[:,0],y_onAxis ,'k', label='Ground Truth')\n",
    "ax.plot(x_onAxis[:,0],y_pred,   'b-', label='Prediction')\n",
    "ax.fill_between(x_onAxis[:,0], y_pred- 1.96 * sigma,\n",
    "                               y_pred+ 1.96 * sigma, \n",
    "                label='95% confidence interval', color='C0', alpha=.5, )\n",
    "\n",
    "plt.title('1D slice view of '+str(d)+'D problem')\n",
    "plt.xlabel(r'$x_0$')\n",
    "plt.ylabel(r'$f(x)$')\n",
    "plt.legend(loc='upper right')\n",
    "plt.tight_layout()\n",
    "plt.xlim(-1,1)\n",
    "plt.ylim(-0.4,1.2)\n",
    "plt.xticks([-1,-0.5,0,0.5,1])\n",
    "plt.savefig('GP'+str(d)+'D_'+str(n)+'sample.png',dpi=180)"
   ]
  },
  {
   "cell_type": "markdown",
   "metadata": {},
   "source": [
    "# 12D"
   ]
  },
  {
   "cell_type": "code",
   "execution_count": 38,
   "metadata": {},
   "outputs": [],
   "source": [
    "d = 12"
   ]
  },
  {
   "cell_type": "code",
   "execution_count": 39,
   "metadata": {},
   "outputs": [],
   "source": [
    "x_train = (np.random.rand(n,d)-0.5)*2\n",
    "y_train = f(x_train)\n",
    "\n",
    "x_test = (np.random.rand(n,d)-0.5)*2\n",
    "y_test = f(x_test)\n",
    "\n",
    "x_onAxis = np.zeros([128,d])\n",
    "x_onAxis[:,0] = np.linspace(-1, 1, 128)\n",
    "y_onAxis = f(x_onAxis)"
   ]
  },
  {
   "cell_type": "code",
   "execution_count": 40,
   "metadata": {},
   "outputs": [],
   "source": [
    "kernel = C(1.0, (2e-2, 10.0)) * RBF(1, (2e-2, 1.0))\n",
    "gp = GaussianProcessRegressor(kernel=kernel, n_restarts_optimizer=3)"
   ]
  },
  {
   "cell_type": "code",
   "execution_count": 41,
   "metadata": {},
   "outputs": [
    {
     "data": {
      "text/plain": [
       "(-0.0005020412341238956, -0.0026632903167291837)"
      ]
     },
     "execution_count": 41,
     "metadata": {},
     "output_type": "execute_result"
    }
   ],
   "source": [
    "gp.score(x_train, y_train), gp.score(x_test, y_test)"
   ]
  },
  {
   "cell_type": "code",
   "execution_count": 42,
   "metadata": {},
   "outputs": [
    {
     "data": {
      "text/plain": [
       "0.141**2 * RBF(length_scale=1)"
      ]
     },
     "execution_count": 42,
     "metadata": {},
     "output_type": "execute_result"
    }
   ],
   "source": [
    "gp.fit(x_train, y_train)\n",
    "gp.kernel_"
   ]
  },
  {
   "cell_type": "code",
   "execution_count": 43,
   "metadata": {},
   "outputs": [
    {
     "data": {
      "text/plain": [
       "(0.9999999999999997, -0.4676755501545897)"
      ]
     },
     "execution_count": 43,
     "metadata": {},
     "output_type": "execute_result"
    }
   ],
   "source": [
    "gp.score(x_train, y_train), gp.score(x_test, y_test)  \n",
    "# score over test data after train can become even worse when train data is not enough !!"
   ]
  },
  {
   "cell_type": "code",
   "execution_count": 44,
   "metadata": {},
   "outputs": [],
   "source": [
    "y_pred, sigma = gp.predict(x_onAxis, return_std=True)"
   ]
  },
  {
   "cell_type": "code",
   "execution_count": 45,
   "metadata": {
    "scrolled": true
   },
   "outputs": [
    {
     "data": {
      "image/png": "[encoded data removed]",
      "text/plain": [
       "<Figure size 360x288 with 1 Axes>"
      ]
     },
     "metadata": {
      "needs_background": "light"
     },
     "output_type": "display_data"
    }
   ],
   "source": [
    "fig = plt.figure(figsize=(5,4))\n",
    "ax = fig.add_subplot(111)\n",
    "\n",
    "ax.plot(x_onAxis[:,0],y_onAxis ,'k', label='Ground Truth')\n",
    "ax.plot(x_onAxis[:,0],y_pred,   'b-', label='Prediction')\n",
    "ax.fill_between(x_onAxis[:,0], y_pred- 1.96 * sigma,\n",
    "                               y_pred+ 1.96 * sigma, \n",
    "                label='95% confidence interval', color='C0', alpha=.5, )\n",
    "\n",
    "plt.title('1D slice view of '+str(d)+'D problem')\n",
    "plt.xlabel(r'$x_0$')\n",
    "plt.ylabel(r'$f(x)$')\n",
    "plt.legend(loc='upper right')\n",
    "plt.tight_layout()\n",
    "plt.xlim(-1,1)\n",
    "plt.ylim(-0.4,1.2)\n",
    "plt.xticks([-1,-0.5,0,0.5,1])\n",
    "plt.savefig('GP'+str(d)+'D_'+str(n)+'sample.png',dpi=180)"
   ]
  },
  {
   "cell_type": "markdown",
   "metadata": {},
   "source": [
    "# 20D"
   ]
  },
  {
   "cell_type": "code",
   "execution_count": 46,
   "metadata": {},
   "outputs": [],
   "source": [
    "d = 20"
   ]
  },
  {
   "cell_type": "code",
   "execution_count": 47,
   "metadata": {},
   "outputs": [],
   "source": [
    "x_train = (np.random.rand(n,d)-0.5)*2\n",
    "y_train = f(x_train)\n",
    "\n",
    "x_test = (np.random.rand(n,d)-0.5)*2\n",
    "y_test = f(x_test)\n",
    "\n",
    "x_onAxis = np.zeros([128,d])\n",
    "x_onAxis[:,0] = np.linspace(-1, 1, 128)\n",
    "y_onAxis = f(x_onAxis)"
   ]
  },
  {
   "cell_type": "code",
   "execution_count": 48,
   "metadata": {},
   "outputs": [],
   "source": [
    "kernel = C(1.0, (2e-2, 10.0)) * RBF(1, (2e-2, 1.0))\n",
    "gp = GaussianProcessRegressor(kernel=kernel, n_restarts_optimizer=3)"
   ]
  },
  {
   "cell_type": "code",
   "execution_count": 49,
   "metadata": {},
   "outputs": [
    {
     "data": {
      "text/plain": [
       "(-0.0009536962120202387, -0.00023580980209647606)"
      ]
     },
     "execution_count": 49,
     "metadata": {},
     "output_type": "execute_result"
    }
   ],
   "source": [
    "gp.score(x_train, y_train), gp.score(x_test, y_test)"
   ]
  },
  {
   "cell_type": "code",
   "execution_count": 50,
   "metadata": {},
   "outputs": [
    {
     "data": {
      "text/plain": [
       "0.141**2 * RBF(length_scale=1)"
      ]
     },
     "execution_count": 50,
     "metadata": {},
     "output_type": "execute_result"
    }
   ],
   "source": [
    "gp.fit(x_train, y_train)\n",
    "gp.kernel_"
   ]
  },
  {
   "cell_type": "code",
   "execution_count": 51,
   "metadata": {},
   "outputs": [
    {
     "data": {
      "text/plain": [
       "(1.0, -0.0703621119291915)"
      ]
     },
     "execution_count": 51,
     "metadata": {},
     "output_type": "execute_result"
    }
   ],
   "source": [
    "gp.score(x_train, y_train), gp.score(x_test, y_test)  \n",
    "# score over test data after train can become even worse when train data is not enough !!"
   ]
  },
  {
   "cell_type": "code",
   "execution_count": 52,
   "metadata": {},
   "outputs": [],
   "source": [
    "y_pred, sigma = gp.predict(x_onAxis, return_std=True)"
   ]
  },
  {
   "cell_type": "code",
   "execution_count": 53,
   "metadata": {
    "scrolled": true
   },
   "outputs": [
    {
     "data": {
      "image/png": "[encoded data removed]",
      "text/plain": [
       "<Figure size 360x288 with 1 Axes>"
      ]
     },
     "metadata": {
      "needs_background": "light"
     },
     "output_type": "display_data"
    }
   ],
   "source": [
    "fig = plt.figure(figsize=(5,4))\n",
    "ax = fig.add_subplot(111)\n",
    "\n",
    "ax.plot(x_onAxis[:,0],y_onAxis ,'k', label='Ground Truth')\n",
    "ax.plot(x_onAxis[:,0],y_pred,   'b-', label='Prediction')\n",
    "ax.fill_between(x_onAxis[:,0], y_pred- 1.96 * sigma,\n",
    "                               y_pred+ 1.96 * sigma, \n",
    "                label='95% confidence interval', color='C0', alpha=.5, )\n",
    "\n",
    "plt.title('1D slice view of '+str(d)+'D problem')\n",
    "plt.xlabel(r'$x_0$')\n",
    "plt.ylabel(r'$f(x)$')\n",
    "plt.legend(loc='upper right')\n",
    "plt.tight_layout()\n",
    "plt.xlim(-1,1)\n",
    "plt.ylim(-0.4,1.2)\n",
    "plt.xticks([-1,-0.5,0,0.5,1])\n",
    "plt.savefig('GP'+str(d)+'D_'+str(n)+'sample.png',dpi=180)"
   ]
  },
  {
   "cell_type": "code",
   "execution_count": null,
   "metadata": {},
   "outputs": [],
   "source": []
  }
 ],
 "metadata": {
  "kernelspec": {
   "display_name": "Python 3",
   "language": "python",
   "name": "python3"
  },
  "language_info": {
   "codemirror_mode": {
    "name": "ipython",
    "version": 3
   },
   "file_extension": ".py",
   "mimetype": "text/x-python",
   "name": "python",
   "nbconvert_exporter": "python",
   "pygments_lexer": "ipython3",
   "version": "3.7.6"
  }
 },
 "nbformat": 4,
 "nbformat_minor": 4
}
