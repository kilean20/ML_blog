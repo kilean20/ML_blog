{
 "cells": [
  {
   "cell_type": "code",
   "execution_count": 1,
   "metadata": {
    "id": "Rae_ovNg-UjL"
   },
   "outputs": [],
   "source": [
    "import numpy as np\n",
    "\n",
    "from sklearn.gaussian_process import GaussianProcessRegressor\n",
    "from sklearn.gaussian_process.kernels import RBF, ConstantKernel as C\n",
    "import matplotlib.pyplot as plt\n",
    "\n",
    "from copy import deepcopy as copy\n",
    "# np.random.seed(1)"
   ]
  },
  {
   "cell_type": "code",
   "execution_count": 2,
   "metadata": {
    "colab": {
     "base_uri": "https://localhost:8080/"
    },
    "id": "18MOHxpPZfxp",
    "outputId": "dc324015-cd02-4421-fca6-c1b2d82b2c47"
   },
   "outputs": [
    {
     "name": "stdout",
     "output_type": "stream",
     "text": [
      "Defaulting to user installation because normal site-packages is not writeable\n",
      "Collecting git+https://github.com/kilean20/pyTorchTemplate.git\n",
      "  Cloning https://github.com/kilean20/pyTorchTemplate.git to /tmp/pip-req-build-h1erakyd\n",
      "  Running command git clone -q https://github.com/kilean20/pyTorchTemplate.git /tmp/pip-req-build-h1erakyd\n",
      "Requirement already satisfied (use --upgrade to upgrade): pyTorchTemplate==0.0.1 from git+https://github.com/kilean20/pyTorchTemplate.git in /global/u1/k/khwang/.local/cori/pytorchv1.4.0/lib/python3.7/site-packages\n",
      "Building wheels for collected packages: pyTorchTemplate\n",
      "  Building wheel for pyTorchTemplate (setup.py) ... \u001b[?25ldone\n",
      "\u001b[?25h  Created wheel for pyTorchTemplate: filename=pyTorchTemplate-0.0.1-py3-none-any.whl size=6602 sha256=fc46525946d78ee5f9d27e18051479a3dd75ea867498577cdfd2d4aa0b31a48b\n",
      "  Stored in directory: /tmp/pip-ephem-wheel-cache-8v66fy5k/wheels/15/b3/6d/10ca0e96789eddf8cbd29d87914215e75608e6930926678261\n",
      "Successfully built pyTorchTemplate\n"
     ]
    }
   ],
   "source": [
    "!pip install git+https://github.com/kilean20/pyTorchTemplate.git"
   ]
  },
  {
   "cell_type": "code",
   "execution_count": 3,
   "metadata": {},
   "outputs": [
    {
     "name": "stdout",
     "output_type": "stream",
     "text": [
      "Defaulting to user installation because normal site-packages is not writeable\n",
      "Collecting git+https://github.com/kilean20/pyTorchTemplate.git\n",
      "  Cloning https://github.com/kilean20/pyTorchTemplate.git to /tmp/pip-req-build-lx1p2ifd\n",
      "  Running command git clone -q https://github.com/kilean20/pyTorchTemplate.git /tmp/pip-req-build-lx1p2ifd\n",
      "Building wheels for collected packages: pyTorchTemplate\n",
      "  Building wheel for pyTorchTemplate (setup.py) ... \u001b[?25ldone\n",
      "\u001b[?25h  Created wheel for pyTorchTemplate: filename=pyTorchTemplate-0.0.1-py3-none-any.whl size=6602 sha256=1a665d0dfdf9739de3de54fa7aa76b64ff29d296cc1ff07be01817160d22997e\n",
      "  Stored in directory: /tmp/pip-ephem-wheel-cache-brldgk1j/wheels/15/b3/6d/10ca0e96789eddf8cbd29d87914215e75608e6930926678261\n",
      "Successfully built pyTorchTemplate\n",
      "Installing collected packages: pyTorchTemplate\n",
      "  Attempting uninstall: pyTorchTemplate\n",
      "    Found existing installation: pyTorchTemplate 0.0.1\n",
      "    Uninstalling pyTorchTemplate-0.0.1:\n",
      "      Successfully uninstalled pyTorchTemplate-0.0.1\n",
      "Successfully installed pyTorchTemplate-0.0.1\n"
     ]
    }
   ],
   "source": [
    "!pip install git+https://github.com/kilean20/pyTorchTemplate.git --upgrade"
   ]
  },
  {
   "cell_type": "code",
   "execution_count": 4,
   "metadata": {
    "id": "RSYlem9s37YC"
   },
   "outputs": [],
   "source": [
    "import torch\n",
    "from torch.nn import functional as F\n",
    "device = torch.device(\"cuda\" if torch.cuda.is_available() else \"cpu\")\n",
    "\n",
    "import pyTorchTemplate as ptt"
   ]
  },
  {
   "cell_type": "markdown",
   "metadata": {
    "id": "l8CjpFfR-aMC"
   },
   "source": [
    "$$\n",
    "\\begin{eqnarray}\n",
    "\\boldsymbol{R} &=& |\\boldsymbol{x}| \\\\\n",
    "{f} &=& \\frac{\\sin(4\\pi \\boldsymbol{R})}{4\\pi\\boldsymbol{R}}\n",
    "\\end{eqnarray}\n",
    "$$"
   ]
  },
  {
   "cell_type": "code",
   "execution_count": 5,
   "metadata": {
    "id": "4K4iQu8o-no7"
   },
   "outputs": [],
   "source": [
    "ndim = 12\n",
    "nSample = 2048\n",
    "p = 8"
   ]
  },
  {
   "cell_type": "code",
   "execution_count": 6,
   "metadata": {
    "id": "WvoM8m_E_pkb"
   },
   "outputs": [],
   "source": [
    "def f(x):\n",
    "    \"\"\"The function to predict.\"\"\"\n",
    "    \n",
    "    R = np.sqrt(np.sum(x**2,axis=1)) + 0.0001\n",
    "    return np.sin(4*np.pi*R)/(4*np.pi*R)"
   ]
  },
  {
   "cell_type": "markdown",
   "metadata": {
    "id": "tRliSdTZwjoG"
   },
   "source": [
    "# Prepare data"
   ]
  },
  {
   "cell_type": "code",
   "execution_count": 7,
   "metadata": {
    "id": "1gshQgdxqIw3"
   },
   "outputs": [],
   "source": [
    "x_train = ((np.random.rand(nSample,ndim)-0.5)*2).astype(np.float32)\n",
    "y_train = f(x_train).reshape(-1,1).astype(np.float32)"
   ]
  },
  {
   "cell_type": "code",
   "execution_count": 8,
   "metadata": {
    "colab": {
     "base_uri": "https://localhost:8080/",
     "height": 265
    },
    "id": "lcYoygfy-rLR",
    "outputId": "4b229589-399a-4ef2-a07e-172425765f2e"
   },
   "outputs": [
    {
     "data": {
      "image/png": "[encoded data removed]",
      "text/plain": [
       "<Figure size 432x288 with 1 Axes>"
      ]
     },
     "metadata": {
      "needs_background": "light"
     },
     "output_type": "display_data"
    }
   ],
   "source": [
    "plt.hist(y_train,bins=50);\n",
    "plt.xlabel('f')\n",
    "plt.ylabel('count')\n",
    "plt.title('train data histogram of f(x)')\n",
    "plt.tight_layout()\n",
    "plt.savefig('train_data_histo_'+str(ndim)+'D_'+str(nSample)+'sample.png',dpi=180)"
   ]
  },
  {
   "cell_type": "code",
   "execution_count": 9,
   "metadata": {
    "id": "BjNaW9IMqIxB"
   },
   "outputs": [],
   "source": [
    "x_test = ((np.random.rand(65536,ndim)-0.5)*2).astype(np.float32)\n",
    "y_test = f(x_test).reshape(-1,1).astype(np.float32)"
   ]
  },
  {
   "cell_type": "code",
   "execution_count": 10,
   "metadata": {
    "id": "DFKV2QBHuZ-x"
   },
   "outputs": [],
   "source": [
    "x_onAxis = np.zeros([256,ndim]).astype(np.float32)\n",
    "x_onAxis[:,0] = np.linspace(-1, 1, 256)\n",
    "y_onAxis = f(x_onAxis).reshape(-1,1).astype(np.float32)"
   ]
  },
  {
   "cell_type": "code",
   "execution_count": 11,
   "metadata": {
    "id": "w2llUa3dvCuF"
   },
   "outputs": [],
   "source": [
    "train_data_loader = torch.utils.data.DataLoader(list(zip(x_train,y_train)),batch_size=128)\n",
    "test_data_loader = torch.utils.data.DataLoader(list(zip(x_test,y_test)),batch_size=128)"
   ]
  },
  {
   "cell_type": "markdown",
   "metadata": {
    "id": "Bh3TgV3dvypN"
   },
   "source": [
    "### GP w/o dim-reduction"
   ]
  },
  {
   "cell_type": "code",
   "execution_count": 12,
   "metadata": {
    "id": "RsjC_jsGvuuS"
   },
   "outputs": [],
   "source": [
    "kernel = C(0.2, (2e-2, 1e1)) * RBF(1, (2e-2, 1e1))\n",
    "gpNaive = GaussianProcessRegressor(kernel=kernel, n_restarts_optimizer=9)"
   ]
  },
  {
   "cell_type": "code",
   "execution_count": 13,
   "metadata": {
    "colab": {
     "base_uri": "https://localhost:8080/"
    },
    "id": "ZBaeI7daqIxL",
    "outputId": "4c4619da-0bbc-4eef-c9c6-a64059939fa7"
   },
   "outputs": [
    {
     "data": {
      "text/plain": [
       "(-0.0008521033640711551, -0.00010352301880245385)"
      ]
     },
     "execution_count": 13,
     "metadata": {},
     "output_type": "execute_result"
    }
   ],
   "source": [
    "gpNaive.score(x_train, y_train), gpNaive.score(x_test, y_test)"
   ]
  },
  {
   "cell_type": "code",
   "execution_count": 14,
   "metadata": {
    "colab": {
     "base_uri": "https://localhost:8080/"
    },
    "id": "OqVS67mxwAAP",
    "outputId": "1201da25-9649-447d-a90d-9e7170e7266f"
   },
   "outputs": [
    {
     "data": {
      "text/plain": [
       "0.141**2 * RBF(length_scale=1.28)"
      ]
     },
     "execution_count": 14,
     "metadata": {},
     "output_type": "execute_result"
    }
   ],
   "source": [
    "gpNaive.fit(x_train, y_train)\n",
    "gpNaive.kernel_"
   ]
  },
  {
   "cell_type": "code",
   "execution_count": 15,
   "metadata": {
    "colab": {
     "base_uri": "https://localhost:8080/"
    },
    "id": "0wXu-plhqIxN",
    "outputId": "46991bbd-e1dd-47fc-99b5-ad87bb3ee0f3"
   },
   "outputs": [
    {
     "data": {
      "text/plain": [
       "(0.999999999999981, -1.4292779906019075)"
      ]
     },
     "execution_count": 15,
     "metadata": {},
     "output_type": "execute_result"
    }
   ],
   "source": [
    "gpNaive.score(x_train, y_train), gpNaive.score(x_test, y_test)   #(0.9999999999999998, 0.2938582961152787)"
   ]
  },
  {
   "cell_type": "code",
   "execution_count": 16,
   "metadata": {
    "id": "AfUo1Eh_qIxT"
   },
   "outputs": [],
   "source": [
    "y_onAxis_GPnaive, sigma_GPnaive = gpNaive.predict(x_onAxis, return_std=True)\n",
    "y_onAxis_GPnaive = y_onAxis_GPnaive.reshape(-1)"
   ]
  },
  {
   "cell_type": "code",
   "execution_count": 17,
   "metadata": {},
   "outputs": [
    {
     "data": {
      "image/png": "[encoded data removed]",
      "text/plain": [
       "<Figure size 360x288 with 1 Axes>"
      ]
     },
     "metadata": {
      "needs_background": "light"
     },
     "output_type": "display_data"
    }
   ],
   "source": [
    "fig = plt.figure(figsize=(5,4))\n",
    "\n",
    "plt.plot(x_onAxis[:,0],y_onAxis ,'k' , label='Ground Truth')\n",
    "plt.plot(x_onAxis[:,0],y_onAxis_GPnaive, 'b-', label='GP prediction')\n",
    "plt.fill_between(x_onAxis[:,0], \n",
    "                y_onAxis_GPnaive- 1.96 * sigma_GPnaive,\n",
    "                y_onAxis_GPnaive+ 1.96 * sigma_GPnaive, \n",
    "                label='95% confidence interval', color='C0', alpha=.5, )\n",
    "# plt.plot(x_onAxis[:,0],y_onAxis_NN, 'r-', label='NN prediction',lw=2,alpha=0.5)\n",
    "\n",
    "plt.title('1D slice view of '+str(ndim)+'D problem w/o dim-reduction')\n",
    "plt.xlabel(r'$x_0$')\n",
    "plt.ylabel(r'$f(x)$')\n",
    "plt.legend(loc='upper right')\n",
    "plt.xlim(-1,1)\n",
    "plt.ylim(-0.4,1.2)\n",
    "plt.xticks([-1,-0.5,0,0.5,1])\n",
    "plt.tight_layout()\n",
    "plt.savefig('GP_woDimReduct_'+str(ndim)+'D.png',dpi=180)"
   ]
  },
  {
   "cell_type": "markdown",
   "metadata": {
    "id": "fuY5xHu3FiPa"
   },
   "source": [
    "# with DimReduction"
   ]
  },
  {
   "cell_type": "markdown",
   "metadata": {
    "id": "QIXyvxw7TFrm"
   },
   "source": [
    "### AutoEncoderLike NN"
   ]
  },
  {
   "cell_type": "code",
   "execution_count": 18,
   "metadata": {
    "id": "7Y5AMhJDHwUq"
   },
   "outputs": [],
   "source": [
    "def test(model,criterion,test_data_loader):\n",
    "  model.eval()\n",
    "  loss = 0 \n",
    "  for x, y in test_data_loader:\n",
    "    x = x.to(device)\n",
    "    y_pred = model(x)\n",
    "    loss += criterion(y_pred, y.to(device)).item()\n",
    "  return loss/len(test_data_loader)"
   ]
  },
  {
   "cell_type": "markdown",
   "metadata": {},
   "source": [
    "### 4D source"
   ]
  },
  {
   "cell_type": "code",
   "execution_count": 19,
   "metadata": {},
   "outputs": [],
   "source": [
    "nsource = 4"
   ]
  },
  {
   "cell_type": "code",
   "execution_count": 21,
   "metadata": {
    "colab": {
     "base_uri": "https://localhost:8080/",
     "height": 1000
    },
    "id": "ZaABf7BvIHuP",
    "outputId": "985911f7-86b4-44a4-a3bf-f6a2b7b4cb14"
   },
   "outputs": [
    {
     "name": "stdout",
     "output_type": "stream",
     "text": [
      "epoch : 1999/2000, train loss = 0.000046\r"
     ]
    },
    {
     "data": {
      "image/png": "[encoded data removed]",
      "text/plain": [
       "<Figure size 288x144 with 1 Axes>"
      ]
     },
     "metadata": {
      "needs_background": "light"
     },
     "output_type": "display_data"
    }
   ],
   "source": [
    "old_best_loss = 1\n",
    "for i in range(10):\n",
    "  model = ptt.resFCNN_autoEncoder([ndim,32,32,nsource],[nsource,16,16,1], torch.nn.CELU(inplace=True), residual=True, identity_block_every_layer=True)\n",
    "  mode,hist = ptt.train_supervised(model,1.0e-2,200,\n",
    "                                  train_data_loader,\n",
    "                                  optimizer=torch.optim.Adam,\n",
    "#                                   optim_args = {'weight_decay':0.2},\n",
    "                                  criterion=ptt.MPELoss(p=p),\n",
    "                                  old_best_loss = old_best_loss,\n",
    "                                  dispHead = 0, dispTail = 0)\n",
    "  newloss = test(model,ptt.MPELoss(p=p),train_data_loader)\n",
    "  if newloss > 1e-2:\n",
    "    continue\n",
    "  mode,hist = ptt.train_supervised(model,2.0e-3,400,\n",
    "                                  train_data_loader,\n",
    "                                  optimizer=torch.optim.Adam,\n",
    "#                                   optim_args = {'weight_decay':0.2},\n",
    "                                  criterion=ptt.MPELoss(p=p),\n",
    "                                  old_hist = hist,\n",
    "                                  old_best_loss = old_best_loss,\n",
    "                                  dispHead = 0, dispTail = 0)\n",
    "  newloss = test(model,ptt.MPELoss(p=p),train_data_loader)\n",
    "  if newloss > 2e-4:\n",
    "    continue  \n",
    "  mode,hist = ptt.train_supervised(model,2.0e-3,600,\n",
    "                                  train_data_loader,\n",
    "                                  optimizer=torch.optim.Adam,\n",
    "#                                   optim_args = {'weight_decay':0.2},\n",
    "                                  criterion=ptt.MPELoss(p=p),\n",
    "                                  old_hist = hist,\n",
    "                                  old_best_loss = old_best_loss,\n",
    "                                  dispHead = 0, dispTail = 0)\n",
    "  newloss = test(model,ptt.MPELoss(p=p),train_data_loader)\n",
    "  \n",
    "  if newloss < old_best_loss:\n",
    "    old_best_loss = newloss\n",
    "    final_model = copy(model)\n",
    "    final_hist  = copy(hist)\n",
    "    \n",
    "  if newloss < 3e-6:\n",
    "    break\n",
    "    \n",
    "  plt.figure(figsize=(4,2))\n",
    "  plt.semilogy(hist['train_loss'])\n",
    "  plt.semilogy(hist['test_loss'])\n",
    "\n",
    "model = final_model\n",
    "hist = final_hist\n",
    "mode,hist = ptt.train_supervised(model,5.0e-4,800,\n",
    "                                train_data_loader,\n",
    "                                optimizer=torch.optim.Adam,\n",
    "#                                 optim_args = {'weight_decay':0.2},\n",
    "                                # data_loader,\n",
    "                                old_hist = hist,\n",
    "                                criterion=ptt.MPELoss(p=p),\n",
    "                                old_best_loss = newloss,\n",
    "                                dispHead = 0, dispTail = 0)\n",
    "newloss = test(model,ptt.MPELoss(p=p),train_data_loader)\n",
    "\n",
    "\n",
    "model = model.cpu()\n",
    "model.eval();"
   ]
  },
  {
   "cell_type": "code",
   "execution_count": 22,
   "metadata": {},
   "outputs": [
    {
     "name": "stdout",
     "output_type": "stream",
     "text": [
      "4.159365312261798e-05\n"
     ]
    },
    {
     "data": {
      "image/png": "[encoded data removed]",
      "text/plain": [
       "<Figure size 288x144 with 1 Axes>"
      ]
     },
     "metadata": {
      "needs_background": "light"
     },
     "output_type": "display_data"
    }
   ],
   "source": [
    "plt.figure(figsize=(4,2))\n",
    "plt.semilogy(hist['train_loss'])\n",
    "print(newloss)"
   ]
  },
  {
   "cell_type": "code",
   "execution_count": 23,
   "metadata": {
    "colab": {
     "base_uri": "https://localhost:8080/"
    },
    "id": "i5T-w9zGtblJ",
    "outputId": "527094df-abf5-4d1e-f010-d66359000562"
   },
   "outputs": [
    {
     "data": {
      "text/plain": [
       "array([[-0.02673663],\n",
       "       [-0.03921007],\n",
       "       [ 0.03575707],\n",
       "       [-0.02789691],\n",
       "       [ 0.0242639 ],\n",
       "       [ 0.02947409],\n",
       "       [-0.03914564],\n",
       "       [ 0.04476586],\n",
       "       [ 0.04417496],\n",
       "       [ 0.02205328]], dtype=float32)"
      ]
     },
     "execution_count": 23,
     "metadata": {},
     "output_type": "execute_result"
    }
   ],
   "source": [
    "model(torch.Tensor(x_train[:10,:])).detach().numpy()"
   ]
  },
  {
   "cell_type": "code",
   "execution_count": 24,
   "metadata": {
    "colab": {
     "base_uri": "https://localhost:8080/"
    },
    "id": "19lN2T2EIF7j",
    "outputId": "cb52f25c-943e-44bb-dae9-0a4fe89ee025"
   },
   "outputs": [
    {
     "data": {
      "text/plain": [
       "array([-0.02858959, -0.04246758,  0.03531761, -0.02965405,  0.02321026,\n",
       "        0.02978526, -0.0423779 ,  0.04572124,  0.04498084,  0.02183215],\n",
       "      dtype=float32)"
      ]
     },
     "execution_count": 24,
     "metadata": {},
     "output_type": "execute_result"
    }
   ],
   "source": [
    "f(x_train[:10,:])"
   ]
  },
  {
   "cell_type": "markdown",
   "metadata": {
    "id": "fjRHslRYSrPW"
   },
   "source": [
    "##### source from AutoEncoderLike BottleNeck"
   ]
  },
  {
   "cell_type": "code",
   "execution_count": 25,
   "metadata": {
    "id": "jMqyrdwGIOrI"
   },
   "outputs": [],
   "source": [
    "s_train = model.get_latent_variable(torch.Tensor(x_train)).detach().numpy()"
   ]
  },
  {
   "cell_type": "code",
   "execution_count": 26,
   "metadata": {
    "colab": {
     "base_uri": "https://localhost:8080/",
     "height": 223
    },
    "id": "N9Qjvo5gxUve",
    "outputId": "773a7691-5f3d-4590-d2fc-52438a4cdafd"
   },
   "outputs": [
    {
     "name": "stdout",
     "output_type": "stream",
     "text": [
      "[-2.946931] [8.640887]\n",
      "[-2.946931, -1.5961797] [8.640887, 13.784833]\n",
      "[-2.946931, -1.5961797, -5.7590055] [8.640887, 13.784833, 8.8400345]\n",
      "[-2.946931, -1.5961797, -5.7590055, -3.6363819] [8.640887, 13.784833, 8.8400345, 13.253946]\n"
     ]
    },
    {
     "data": {
      "image/png": "[encoded data removed]",
      "text/plain": [
       "<Figure size 144x72 with 1 Axes>"
      ]
     },
     "metadata": {
      "needs_background": "light"
     },
     "output_type": "display_data"
    },
    {
     "data": {
      "image/png": "[encoded data removed]",
      "text/plain": [
       "<Figure size 144x72 with 1 Axes>"
      ]
     },
     "metadata": {
      "needs_background": "light"
     },
     "output_type": "display_data"
    },
    {
     "data": {
      "image/png": "[encoded data removed]",
      "text/plain": [
       "<Figure size 144x72 with 1 Axes>"
      ]
     },
     "metadata": {
      "needs_background": "light"
     },
     "output_type": "display_data"
    },
    {
     "data": {
      "image/png": "[encoded data removed]",
      "text/plain": [
       "<Figure size 144x72 with 1 Axes>"
      ]
     },
     "metadata": {
      "needs_background": "light"
     },
     "output_type": "display_data"
    }
   ],
   "source": [
    "s_mean = []\n",
    "s_std  = []\n",
    "\n",
    "for i in range(nsource):\n",
    "  s_mean.append(s_train[:,i].mean())\n",
    "  s_std.append(s_train[:,i].std())\n",
    "  print(s_mean,s_std)\n",
    "  s_train[:,i] = (s_train[:,i]-s_mean[i])/s_std[i]\n",
    "  plt.figure(figsize=(2,1))\n",
    "  plt.hist(s_train[:,i]);"
   ]
  },
  {
   "cell_type": "code",
   "execution_count": 27,
   "metadata": {
    "id": "qpy98Vt3yitn"
   },
   "outputs": [],
   "source": [
    "s_test = model.get_latent_variable(torch.Tensor(x_test)).detach().numpy()\n",
    "for i in range(nsource):\n",
    "  s_test[:,i] = (s_test[:,i]-s_mean[i])/s_std[i]"
   ]
  },
  {
   "cell_type": "code",
   "execution_count": 28,
   "metadata": {
    "colab": {
     "base_uri": "https://localhost:8080/",
     "height": 228
    },
    "id": "jGVPa8qd3kft",
    "outputId": "7cc6d8c9-4eb2-4b6a-d965-fe9f0da76deb"
   },
   "outputs": [
    {
     "data": {
      "image/png": "[encoded data removed]",
      "text/plain": [
       "<Figure size 360x288 with 1 Axes>"
      ]
     },
     "metadata": {
      "needs_background": "light"
     },
     "output_type": "display_data"
    }
   ],
   "source": [
    "plt.figure(figsize=(5,4))\n",
    "plt.tricontourf(s_test[:,0],s_test[:,1],y_test.reshape(-1))\n",
    "\n",
    "plt.title(str(nsource)+'D source contour f(s)')\n",
    "plt.xlabel(r'$s_0$')\n",
    "plt.ylabel(r'$s_1$')\n",
    "plt.tight_layout()\n",
    "plt.savefig('4Dto2D_source_contour.png',dpi=180)"
   ]
  },
  {
   "cell_type": "code",
   "execution_count": 29,
   "metadata": {
    "id": "-bdwFsTmDXIZ"
   },
   "outputs": [],
   "source": [
    "s_onAxis = model.get_latent_variable(torch.Tensor(x_onAxis)).detach().numpy()\n",
    "for i in range(nsource):\n",
    "  s_onAxis[:,i] = (s_onAxis[:,i]-s_mean[i])/s_std[i]"
   ]
  },
  {
   "cell_type": "markdown",
   "metadata": {
    "id": "JP_gXNqQ4jUP"
   },
   "source": [
    "##### GP on source"
   ]
  },
  {
   "cell_type": "code",
   "execution_count": 30,
   "metadata": {
    "id": "1gI0Up4SVITk"
   },
   "outputs": [],
   "source": [
    "kernel = C(0.2, (1e-2, 1e1)) * RBF(1, (1e-2, 1e1))\n",
    "gp = GaussianProcessRegressor(kernel=kernel, n_restarts_optimizer=9, alpha=0.1)"
   ]
  },
  {
   "cell_type": "code",
   "execution_count": 31,
   "metadata": {
    "colab": {
     "base_uri": "https://localhost:8080/"
    },
    "id": "O_lSBMngTVsW",
    "outputId": "4cb44c02-e847-4182-89e9-8627bf31c5af"
   },
   "outputs": [
    {
     "data": {
      "text/plain": [
       "(-0.0008521033640711551, -0.00010352301880245385)"
      ]
     },
     "execution_count": 31,
     "metadata": {},
     "output_type": "execute_result"
    }
   ],
   "source": [
    "gp.score(s_train, y_train), gp.score(s_test, y_test)"
   ]
  },
  {
   "cell_type": "code",
   "execution_count": 32,
   "metadata": {
    "colab": {
     "base_uri": "https://localhost:8080/"
    },
    "id": "C7s787EMTY9c",
    "outputId": "aacd51a9-9759-4892-e440-957238559900"
   },
   "outputs": [
    {
     "data": {
      "text/plain": [
       "0.1**2 * RBF(length_scale=9.53)"
      ]
     },
     "execution_count": 32,
     "metadata": {},
     "output_type": "execute_result"
    }
   ],
   "source": [
    "gp.fit(s_train, y_train)\n",
    "gp.kernel_"
   ]
  },
  {
   "cell_type": "code",
   "execution_count": 33,
   "metadata": {
    "colab": {
     "base_uri": "https://localhost:8080/"
    },
    "id": "o_hfrTN_zp69",
    "outputId": "ed7ee78a-b25b-4f9e-eb89-53682eda48b8"
   },
   "outputs": [
    {
     "data": {
      "text/plain": [
       "(0.7638103920427146, -0.3507433728230278)"
      ]
     },
     "execution_count": 33,
     "metadata": {},
     "output_type": "execute_result"
    }
   ],
   "source": [
    "gp.score(s_train, y_train), gp.score(s_test, y_test)   "
   ]
  },
  {
   "cell_type": "markdown",
   "metadata": {
    "id": "GTulbGz1zcdd"
   },
   "source": [
    "##### on axis"
   ]
  },
  {
   "cell_type": "code",
   "execution_count": 34,
   "metadata": {
    "id": "1v7rbu9WGAnb"
   },
   "outputs": [],
   "source": [
    "y_onAxis_GP, sigma_GP = gp.predict(s_onAxis, return_std=True)\n",
    "y_onAxis_GP = y_onAxis_GP.reshape(-1)\n",
    "y_onAxis_NN = model(torch.Tensor(x_onAxis)).detach().numpy() "
   ]
  },
  {
   "cell_type": "code",
   "execution_count": 35,
   "metadata": {},
   "outputs": [
    {
     "data": {
      "text/plain": [
       "(256, 1)"
      ]
     },
     "execution_count": 35,
     "metadata": {},
     "output_type": "execute_result"
    }
   ],
   "source": [
    "y_onAxis_NN.shape"
   ]
  },
  {
   "cell_type": "code",
   "execution_count": 36,
   "metadata": {
    "colab": {
     "base_uri": "https://localhost:8080/",
     "height": 230
    },
    "id": "yc4aDoDYtmA0",
    "outputId": "58d74d7e-6929-4c47-ded3-a10cd9e66a4b"
   },
   "outputs": [
    {
     "data": {
      "text/plain": [
       "<matplotlib.collections.PathCollection at 0x2aaaede75510>"
      ]
     },
     "execution_count": 36,
     "metadata": {},
     "output_type": "execute_result"
    },
    {
     "data": {
      "image/png": "[encoded data removed]",
      "text/plain": [
       "<Figure size 576x216 with 2 Axes>"
      ]
     },
     "metadata": {
      "needs_background": "light"
     },
     "output_type": "display_data"
    }
   ],
   "source": [
    "plt.figure(figsize=(8,3))\n",
    "plt.subplot(1,2,1)\n",
    "plt.scatter(s_onAxis[:,0],s_onAxis[:,1],c=y_onAxis_GP)\n",
    "plt.subplot(1,2,2)\n",
    "plt.scatter(s_onAxis[:,0],s_onAxis[:,1],c=y_onAxis_NN[:,0])"
   ]
  },
  {
   "cell_type": "code",
   "execution_count": 37,
   "metadata": {
    "colab": {
     "base_uri": "https://localhost:8080/",
     "height": 282
    },
    "id": "H-IX3QTvzlGq",
    "outputId": "9727261b-7204-4a34-8f7b-37a433295284"
   },
   "outputs": [
    {
     "data": {
      "image/png": "[encoded data removed]",
      "text/plain": [
       "<Figure size 360x288 with 1 Axes>"
      ]
     },
     "metadata": {
      "needs_background": "light"
     },
     "output_type": "display_data"
    }
   ],
   "source": [
    "fig = plt.figure(figsize=(5,4))\n",
    "\n",
    "plt.plot(x_onAxis[:,0],y_onAxis ,'k' , label='Ground Truth')\n",
    "plt.plot(x_onAxis[:,0],y_onAxis_GP, 'b-', label='GP prediction')\n",
    "plt.fill_between(x_onAxis[:,0], \n",
    "                y_onAxis_GP- 1.96 * sigma_GP,\n",
    "                y_onAxis_GP+ 1.96 * sigma_GP, \n",
    "                label='95% confidence interval', color='C0', alpha=.5, )\n",
    "plt.plot(x_onAxis[:,0],y_onAxis_NN, 'r-', label='NN prediction',lw=2,alpha=0.5)\n",
    "\n",
    "plt.title('1D slice view of '+str(ndim)+'D problem w. dim-reduction')\n",
    "plt.xlabel(r'$x_0$')\n",
    "plt.ylabel(r'$f(x)$')\n",
    "plt.legend(loc='upper right')\n",
    "plt.xlim(-1,1)\n",
    "plt.ylim(-0.4,1.2)\n",
    "plt.xticks([-1,-0.5,0,0.5,1])\n",
    "plt.tight_layout()\n",
    "plt.savefig('GP_wDimReduct_'+str(ndim)+'D_'+str(nsource)+'source.png',dpi=180)"
   ]
  },
  {
   "cell_type": "code",
   "execution_count": 38,
   "metadata": {
    "colab": {
     "base_uri": "https://localhost:8080/"
    },
    "id": "nFAbeznUF196",
    "outputId": "7feabb58-5a55-4184-dd96-a2ef98135196"
   },
   "outputs": [
    {
     "data": {
      "text/plain": [
       "15789"
      ]
     },
     "execution_count": 38,
     "metadata": {},
     "output_type": "execute_result"
    }
   ],
   "source": [
    "ptt.count_parameters(model)"
   ]
  },
  {
   "cell_type": "markdown",
   "metadata": {},
   "source": [
    "### 3D source"
   ]
  },
  {
   "cell_type": "code",
   "execution_count": 39,
   "metadata": {},
   "outputs": [],
   "source": [
    "nsource = 3"
   ]
  },
  {
   "cell_type": "code",
   "execution_count": null,
   "metadata": {
    "colab": {
     "base_uri": "https://localhost:8080/",
     "height": 1000
    },
    "id": "ZaABf7BvIHuP",
    "outputId": "985911f7-86b4-44a4-a3bf-f6a2b7b4cb14"
   },
   "outputs": [
    {
     "name": "stdout",
     "output_type": "stream",
     "text": [
      "epoch : 210/600, train loss = 0.000398\r"
     ]
    }
   ],
   "source": [
    "old_best_loss = 1\n",
    "for i in range(10):\n",
    "  model = ptt.resFCNN_autoEncoder([ndim,32,32,nsource],[nsource,16,16,1], torch.nn.CELU(inplace=True), residual=True, identity_block_every_layer=True)\n",
    "  mode,hist = ptt.train_supervised(model,1.0e-2,200,\n",
    "                                  train_data_loader,\n",
    "                                  optimizer=torch.optim.Adam,\n",
    "#                                   optim_args = {'weight_decay':0.2},\n",
    "                                  criterion=ptt.MPELoss(p=p),\n",
    "                                  old_best_loss = old_best_loss,\n",
    "                                  dispHead = 0, dispTail = 0)\n",
    "  newloss = test(model,ptt.MPELoss(p=p),train_data_loader)\n",
    "  if newloss > 1e-2:\n",
    "    continue\n",
    "  mode,hist = ptt.train_supervised(model,2.0e-3,400,\n",
    "                                  train_data_loader,\n",
    "                                  optimizer=torch.optim.Adam,\n",
    "#                                   optim_args = {'weight_decay':0.2},\n",
    "                                  criterion=ptt.MPELoss(p=p),\n",
    "                                  old_hist = hist,\n",
    "                                  old_best_loss = old_best_loss,\n",
    "                                  dispHead = 0, dispTail = 0)\n",
    "  newloss = test(model,ptt.MPELoss(p=p),train_data_loader)\n",
    "  if newloss > 2e-4:\n",
    "    continue  \n",
    "  mode,hist = ptt.train_supervised(model,2.0e-3,600,\n",
    "                                  train_data_loader,\n",
    "                                  optimizer=torch.optim.Adam,\n",
    "#                                   optim_args = {'weight_decay':0.2},\n",
    "                                  criterion=ptt.MPELoss(p=p),\n",
    "                                  old_hist = hist,\n",
    "                                  old_best_loss = old_best_loss,\n",
    "                                  dispHead = 0, dispTail = 0)\n",
    "  newloss = test(model,ptt.MPELoss(p=p),train_data_loader)\n",
    "  \n",
    "  if newloss < old_best_loss:\n",
    "    old_best_loss = newloss\n",
    "    final_model = copy(model)\n",
    "    final_hist  = copy(hist)\n",
    "    \n",
    "  if newloss < 3e-6:\n",
    "    break\n",
    "    \n",
    "  plt.figure(figsize=(4,2))\n",
    "  plt.semilogy(hist['train_loss'])\n",
    "  plt.semilogy(hist['test_loss'])\n",
    "\n",
    "model = final_model\n",
    "hist = final_hist\n",
    "mode,hist = ptt.train_supervised(model,5.0e-4,800,\n",
    "                                train_data_loader,\n",
    "                                optimizer=torch.optim.Adam,\n",
    "#                                 optim_args = {'weight_decay':0.2},\n",
    "                                # data_loader,\n",
    "                                old_hist = hist,\n",
    "                                criterion=ptt.MPELoss(p=p),\n",
    "                                old_best_loss = newloss,\n",
    "                                dispHead = 0, dispTail = 0)\n",
    "newloss = test(model,ptt.MPELoss(p=p),train_data_loader)\n",
    "\n",
    "\n",
    "model = model.cpu()\n",
    "model.eval();"
   ]
  },
  {
   "cell_type": "code",
   "execution_count": null,
   "metadata": {},
   "outputs": [],
   "source": [
    "plt.figure(figsize=(4,2))\n",
    "plt.semilogy(hist['train_loss'])\n",
    "plt.semilogy(hist['test_loss'])\n",
    "print(newloss)"
   ]
  },
  {
   "cell_type": "code",
   "execution_count": null,
   "metadata": {
    "colab": {
     "base_uri": "https://localhost:8080/"
    },
    "id": "i5T-w9zGtblJ",
    "outputId": "527094df-abf5-4d1e-f010-d66359000562"
   },
   "outputs": [],
   "source": [
    "model(torch.Tensor(x_train[:10,:])).detach().numpy()"
   ]
  },
  {
   "cell_type": "code",
   "execution_count": null,
   "metadata": {
    "colab": {
     "base_uri": "https://localhost:8080/"
    },
    "id": "19lN2T2EIF7j",
    "outputId": "cb52f25c-943e-44bb-dae9-0a4fe89ee025"
   },
   "outputs": [],
   "source": [
    "f(x_train[:10,:])"
   ]
  },
  {
   "cell_type": "markdown",
   "metadata": {
    "id": "fjRHslRYSrPW"
   },
   "source": [
    "##### source from AutoEncoderLike BottleNeck"
   ]
  },
  {
   "cell_type": "code",
   "execution_count": null,
   "metadata": {
    "id": "jMqyrdwGIOrI"
   },
   "outputs": [],
   "source": [
    "s_train = model.get_latent_variable(torch.Tensor(x_train)).detach().numpy()"
   ]
  },
  {
   "cell_type": "code",
   "execution_count": null,
   "metadata": {
    "colab": {
     "base_uri": "https://localhost:8080/",
     "height": 223
    },
    "id": "N9Qjvo5gxUve",
    "outputId": "773a7691-5f3d-4590-d2fc-52438a4cdafd"
   },
   "outputs": [],
   "source": [
    "s_mean = []\n",
    "s_std  = []\n",
    "\n",
    "for i in range(nsource):\n",
    "  s_mean.append(s_train[:,i].mean())\n",
    "  s_std.append(s_train[:,i].std())\n",
    "  print(s_mean,s_std)\n",
    "  s_train[:,i] = (s_train[:,i]-s_mean[i])/s_std[i]\n",
    "  plt.figure(figsize=(2,1))\n",
    "  plt.hist(s_train[:,i]);"
   ]
  },
  {
   "cell_type": "code",
   "execution_count": null,
   "metadata": {
    "id": "qpy98Vt3yitn"
   },
   "outputs": [],
   "source": [
    "s_test = model.get_latent_variable(torch.Tensor(x_test)).detach().numpy()\n",
    "for i in range(nsource):\n",
    "  s_test[:,i] = (s_test[:,i]-s_mean[i])/s_std[i]"
   ]
  },
  {
   "cell_type": "code",
   "execution_count": null,
   "metadata": {
    "colab": {
     "base_uri": "https://localhost:8080/",
     "height": 228
    },
    "id": "jGVPa8qd3kft",
    "outputId": "7cc6d8c9-4eb2-4b6a-d965-fe9f0da76deb"
   },
   "outputs": [],
   "source": [
    "plt.figure(figsize=(5,4))\n",
    "plt.tricontourf(s_test[:,0],s_test[:,1],y_test.reshape(-1))\n",
    "\n",
    "plt.title(str(nsource)+'D source contour f(s)')\n",
    "plt.xlabel(r'$s_0$')\n",
    "plt.ylabel(r'$s_1$')\n",
    "plt.tight_layout()\n",
    "plt.savefig('4Dto2D_source_contour.png',dpi=180)"
   ]
  },
  {
   "cell_type": "code",
   "execution_count": null,
   "metadata": {
    "id": "-bdwFsTmDXIZ"
   },
   "outputs": [],
   "source": [
    "s_onAxis = model.get_latent_variable(torch.Tensor(x_onAxis)).detach().numpy()\n",
    "for i in range(nsource):\n",
    "  s_onAxis[:,i] = (s_onAxis[:,i]-s_mean[i])/s_std[i]"
   ]
  },
  {
   "cell_type": "markdown",
   "metadata": {
    "id": "JP_gXNqQ4jUP"
   },
   "source": [
    "##### GP on source"
   ]
  },
  {
   "cell_type": "code",
   "execution_count": null,
   "metadata": {
    "id": "1gI0Up4SVITk"
   },
   "outputs": [],
   "source": [
    "kernel = C(0.2, (1e-2, 1e1)) * RBF(1, (1e-2, 1e1))\n",
    "gp = GaussianProcessRegressor(kernel=kernel, n_restarts_optimizer=9, alpha=0.1)"
   ]
  },
  {
   "cell_type": "code",
   "execution_count": null,
   "metadata": {
    "colab": {
     "base_uri": "https://localhost:8080/"
    },
    "id": "O_lSBMngTVsW",
    "outputId": "4cb44c02-e847-4182-89e9-8627bf31c5af"
   },
   "outputs": [],
   "source": [
    "gp.score(s_train, y_train), gp.score(s_test, y_test)"
   ]
  },
  {
   "cell_type": "code",
   "execution_count": null,
   "metadata": {
    "colab": {
     "base_uri": "https://localhost:8080/"
    },
    "id": "C7s787EMTY9c",
    "outputId": "aacd51a9-9759-4892-e440-957238559900"
   },
   "outputs": [],
   "source": [
    "gp.fit(s_train, y_train)\n",
    "gp.kernel_"
   ]
  },
  {
   "cell_type": "code",
   "execution_count": null,
   "metadata": {
    "colab": {
     "base_uri": "https://localhost:8080/"
    },
    "id": "o_hfrTN_zp69",
    "outputId": "ed7ee78a-b25b-4f9e-eb89-53682eda48b8"
   },
   "outputs": [],
   "source": [
    "gp.score(s_train, y_train), gp.score(s_test, y_test)   "
   ]
  },
  {
   "cell_type": "markdown",
   "metadata": {
    "id": "GTulbGz1zcdd"
   },
   "source": [
    "##### on axis"
   ]
  },
  {
   "cell_type": "code",
   "execution_count": null,
   "metadata": {
    "id": "1v7rbu9WGAnb"
   },
   "outputs": [],
   "source": [
    "y_onAxis_GP, sigma_GP = gp.predict(s_onAxis, return_std=True)\n",
    "y_onAxis_GP = y_onAxis_GP.reshape(-1)\n",
    "y_onAxis_NN = model(torch.Tensor(x_onAxis)).detach().numpy() "
   ]
  },
  {
   "cell_type": "code",
   "execution_count": null,
   "metadata": {},
   "outputs": [],
   "source": [
    "y_onAxis_NN.shape"
   ]
  },
  {
   "cell_type": "code",
   "execution_count": null,
   "metadata": {
    "colab": {
     "base_uri": "https://localhost:8080/",
     "height": 230
    },
    "id": "yc4aDoDYtmA0",
    "outputId": "58d74d7e-6929-4c47-ded3-a10cd9e66a4b"
   },
   "outputs": [],
   "source": [
    "plt.figure(figsize=(8,3))\n",
    "plt.subplot(1,2,1)\n",
    "plt.scatter(s_onAxis[:,0],s_onAxis[:,1],c=y_onAxis_GP)\n",
    "plt.subplot(1,2,2)\n",
    "plt.scatter(s_onAxis[:,0],s_onAxis[:,1],c=y_onAxis_NN[:,0])"
   ]
  },
  {
   "cell_type": "code",
   "execution_count": null,
   "metadata": {
    "colab": {
     "base_uri": "https://localhost:8080/",
     "height": 282
    },
    "id": "H-IX3QTvzlGq",
    "outputId": "9727261b-7204-4a34-8f7b-37a433295284"
   },
   "outputs": [],
   "source": [
    "fig = plt.figure(figsize=(5,4))\n",
    "\n",
    "plt.plot(x_onAxis[:,0],y_onAxis ,'k' , label='Ground Truth')\n",
    "plt.plot(x_onAxis[:,0],y_onAxis_GP, 'b-', label='GP prediction')\n",
    "plt.fill_between(x_onAxis[:,0], \n",
    "                y_onAxis_GP- 1.96 * sigma_GP,\n",
    "                y_onAxis_GP+ 1.96 * sigma_GP, \n",
    "                label='95% confidence interval', color='C0', alpha=.5, )\n",
    "plt.plot(x_onAxis[:,0],y_onAxis_NN, 'r-', label='NN prediction',lw=2,alpha=0.5)\n",
    "\n",
    "plt.title('1D slice view of '+str(ndim)+'D problem w. dim-reduction')\n",
    "plt.xlabel(r'$x_0$')\n",
    "plt.ylabel(r'$f(x)$')\n",
    "plt.legend(loc='upper right')\n",
    "plt.xlim(-1,1)\n",
    "plt.ylim(-0.4,1.2)\n",
    "plt.xticks([-1,-0.5,0,0.5,1])\n",
    "plt.tight_layout()\n",
    "plt.savefig('GP_wDimReduct_'+str(ndim)+'D_'+str(nsource)+'source.png',dpi=180)"
   ]
  },
  {
   "cell_type": "code",
   "execution_count": null,
   "metadata": {
    "colab": {
     "base_uri": "https://localhost:8080/"
    },
    "id": "nFAbeznUF196",
    "outputId": "7feabb58-5a55-4184-dd96-a2ef98135196"
   },
   "outputs": [],
   "source": [
    "ptt.count_parameters(model)"
   ]
  },
  {
   "cell_type": "markdown",
   "metadata": {},
   "source": [
    "### 2D source"
   ]
  },
  {
   "cell_type": "code",
   "execution_count": null,
   "metadata": {},
   "outputs": [],
   "source": [
    "nsource = 2"
   ]
  },
  {
   "cell_type": "code",
   "execution_count": null,
   "metadata": {
    "colab": {
     "base_uri": "https://localhost:8080/",
     "height": 1000
    },
    "id": "ZaABf7BvIHuP",
    "outputId": "985911f7-86b4-44a4-a3bf-f6a2b7b4cb14"
   },
   "outputs": [],
   "source": [
    "old_best_loss = 1\n",
    "for i in range(10):\n",
    "  model = ptt.resFCNN_autoEncoder([ndim,32,32,nsource],[nsource,16,16,1], torch.nn.CELU(inplace=True), residual=True, identity_block_every_layer=True)\n",
    "  mode,hist = ptt.train_supervised(model,1.0e-2,200,\n",
    "                                  train_data_loader,\n",
    "                                  optimizer=torch.optim.Adam,\n",
    "#                                   optim_args = {'weight_decay':0.2},\n",
    "                                  criterion=ptt.MPELoss(p=p),\n",
    "                                  old_best_loss = old_best_loss,\n",
    "                                  dispHead = 0, dispTail = 0)\n",
    "  newloss = test(model,ptt.MPELoss(p=p),train_data_loader)\n",
    "  if newloss > 1e-2:\n",
    "    continue\n",
    "  mode,hist = ptt.train_supervised(model,2.0e-3,400,\n",
    "                                  train_data_loader,\n",
    "                                  optimizer=torch.optim.Adam,\n",
    "#                                   optim_args = {'weight_decay':0.2},\n",
    "                                  criterion=ptt.MPELoss(p=p),\n",
    "                                  old_hist = hist,\n",
    "                                  old_best_loss = old_best_loss,\n",
    "                                  dispHead = 0, dispTail = 0)\n",
    "  newloss = test(model,ptt.MPELoss(p=p),train_data_loader)\n",
    "  if newloss > 2e-4:\n",
    "    continue  \n",
    "  mode,hist = ptt.train_supervised(model,2.0e-3,600,\n",
    "                                  train_data_loader,\n",
    "                                  optimizer=torch.optim.Adam,\n",
    "#                                   optim_args = {'weight_decay':0.2},\n",
    "                                  criterion=ptt.MPELoss(p=p),\n",
    "                                  old_hist = hist,\n",
    "                                  old_best_loss = old_best_loss,\n",
    "                                  dispHead = 0, dispTail = 0)\n",
    "  newloss = test(model,ptt.MPELoss(p=p),train_data_loader)\n",
    "  \n",
    "  if newloss < old_best_loss:\n",
    "    old_best_loss = newloss\n",
    "    final_model = copy(model)\n",
    "    final_hist  = copy(hist)\n",
    "    \n",
    "  if newloss < 3e-6:\n",
    "    break\n",
    "    \n",
    "  plt.figure(figsize=(4,2))\n",
    "  plt.semilogy(hist['train_loss'])\n",
    "  plt.semilogy(hist['test_loss'])\n",
    "\n",
    "model = final_model\n",
    "hist = final_hist\n",
    "mode,hist = ptt.train_supervised(model,5.0e-4,800,\n",
    "                                train_data_loader,\n",
    "                                optimizer=torch.optim.Adam,\n",
    "#                                 optim_args = {'weight_decay':0.2},\n",
    "                                # data_loader,\n",
    "                                old_hist = hist,\n",
    "                                criterion=ptt.MPELoss(p=p),\n",
    "                                old_best_loss = newloss,\n",
    "                                dispHead = 0, dispTail = 0)\n",
    "newloss = test(model,ptt.MPELoss(p=p),train_data_loader)\n",
    "\n",
    "\n",
    "model = model.cpu()\n",
    "model.eval();"
   ]
  },
  {
   "cell_type": "code",
   "execution_count": null,
   "metadata": {},
   "outputs": [],
   "source": [
    "plt.figure(figsize=(4,2))\n",
    "plt.semilogy(hist['train_loss'])\n",
    "plt.semilogy(hist['test_loss'])\n",
    "print(newloss)"
   ]
  },
  {
   "cell_type": "code",
   "execution_count": null,
   "metadata": {
    "colab": {
     "base_uri": "https://localhost:8080/"
    },
    "id": "i5T-w9zGtblJ",
    "outputId": "527094df-abf5-4d1e-f010-d66359000562"
   },
   "outputs": [],
   "source": [
    "model(torch.Tensor(x_train[:10,:])).detach().numpy()"
   ]
  },
  {
   "cell_type": "code",
   "execution_count": null,
   "metadata": {
    "colab": {
     "base_uri": "https://localhost:8080/"
    },
    "id": "19lN2T2EIF7j",
    "outputId": "cb52f25c-943e-44bb-dae9-0a4fe89ee025"
   },
   "outputs": [],
   "source": [
    "f(x_train[:10,:])"
   ]
  },
  {
   "cell_type": "markdown",
   "metadata": {
    "id": "fjRHslRYSrPW"
   },
   "source": [
    "##### source from AutoEncoderLike BottleNeck"
   ]
  },
  {
   "cell_type": "code",
   "execution_count": null,
   "metadata": {
    "id": "jMqyrdwGIOrI"
   },
   "outputs": [],
   "source": [
    "s_train = model.get_latent_variable(torch.Tensor(x_train)).detach().numpy()"
   ]
  },
  {
   "cell_type": "code",
   "execution_count": null,
   "metadata": {
    "colab": {
     "base_uri": "https://localhost:8080/",
     "height": 223
    },
    "id": "N9Qjvo5gxUve",
    "outputId": "773a7691-5f3d-4590-d2fc-52438a4cdafd"
   },
   "outputs": [],
   "source": [
    "s_mean = []\n",
    "s_std  = []\n",
    "\n",
    "for i in range(nsource):\n",
    "  s_mean.append(s_train[:,i].mean())\n",
    "  s_std.append(s_train[:,i].std())\n",
    "  print(s_mean,s_std)\n",
    "  s_train[:,i] = (s_train[:,i]-s_mean[i])/s_std[i]\n",
    "  plt.figure(figsize=(2,1))\n",
    "  plt.hist(s_train[:,i]);"
   ]
  },
  {
   "cell_type": "code",
   "execution_count": null,
   "metadata": {
    "id": "qpy98Vt3yitn"
   },
   "outputs": [],
   "source": [
    "s_test = model.get_latent_variable(torch.Tensor(x_test)).detach().numpy()\n",
    "for i in range(nsource):\n",
    "  s_test[:,i] = (s_test[:,i]-s_mean[i])/s_std[i]"
   ]
  },
  {
   "cell_type": "code",
   "execution_count": null,
   "metadata": {
    "colab": {
     "base_uri": "https://localhost:8080/",
     "height": 228
    },
    "id": "jGVPa8qd3kft",
    "outputId": "7cc6d8c9-4eb2-4b6a-d965-fe9f0da76deb"
   },
   "outputs": [],
   "source": [
    "plt.figure(figsize=(5,4))\n",
    "plt.tricontourf(s_test[:,0],s_test[:,1],y_test.reshape(-1))\n",
    "\n",
    "plt.title(str(nsource)+'D source contour f(s)')\n",
    "plt.xlabel(r'$s_0$')\n",
    "plt.ylabel(r'$s_1$')\n",
    "plt.tight_layout()\n",
    "plt.savefig('4Dto2D_source_contour.png',dpi=180)"
   ]
  },
  {
   "cell_type": "code",
   "execution_count": null,
   "metadata": {
    "id": "-bdwFsTmDXIZ"
   },
   "outputs": [],
   "source": [
    "s_onAxis = model.get_latent_variable(torch.Tensor(x_onAxis)).detach().numpy()\n",
    "for i in range(nsource):\n",
    "  s_onAxis[:,i] = (s_onAxis[:,i]-s_mean[i])/s_std[i]"
   ]
  },
  {
   "cell_type": "markdown",
   "metadata": {
    "id": "JP_gXNqQ4jUP"
   },
   "source": [
    "##### GP on source"
   ]
  },
  {
   "cell_type": "code",
   "execution_count": null,
   "metadata": {
    "id": "1gI0Up4SVITk"
   },
   "outputs": [],
   "source": [
    "kernel = C(0.2, (1e-2, 1e1)) * RBF(1, (1e-2, 1e1))\n",
    "gp = GaussianProcessRegressor(kernel=kernel, n_restarts_optimizer=9, alpha=0.1)"
   ]
  },
  {
   "cell_type": "code",
   "execution_count": null,
   "metadata": {
    "colab": {
     "base_uri": "https://localhost:8080/"
    },
    "id": "O_lSBMngTVsW",
    "outputId": "4cb44c02-e847-4182-89e9-8627bf31c5af"
   },
   "outputs": [],
   "source": [
    "gp.score(s_train, y_train), gp.score(s_test, y_test)"
   ]
  },
  {
   "cell_type": "code",
   "execution_count": null,
   "metadata": {
    "colab": {
     "base_uri": "https://localhost:8080/"
    },
    "id": "C7s787EMTY9c",
    "outputId": "aacd51a9-9759-4892-e440-957238559900"
   },
   "outputs": [],
   "source": [
    "gp.fit(s_train, y_train)\n",
    "gp.kernel_"
   ]
  },
  {
   "cell_type": "code",
   "execution_count": null,
   "metadata": {
    "colab": {
     "base_uri": "https://localhost:8080/"
    },
    "id": "o_hfrTN_zp69",
    "outputId": "ed7ee78a-b25b-4f9e-eb89-53682eda48b8"
   },
   "outputs": [],
   "source": [
    "gp.score(s_train, y_train), gp.score(s_test, y_test)   "
   ]
  },
  {
   "cell_type": "markdown",
   "metadata": {
    "id": "GTulbGz1zcdd"
   },
   "source": [
    "##### on axis"
   ]
  },
  {
   "cell_type": "code",
   "execution_count": null,
   "metadata": {
    "id": "1v7rbu9WGAnb"
   },
   "outputs": [],
   "source": [
    "y_onAxis_GP, sigma_GP = gp.predict(s_onAxis, return_std=True)\n",
    "y_onAxis_GP = y_onAxis_GP.reshape(-1)\n",
    "y_onAxis_NN = model(torch.Tensor(x_onAxis)).detach().numpy() "
   ]
  },
  {
   "cell_type": "code",
   "execution_count": null,
   "metadata": {},
   "outputs": [],
   "source": [
    "y_onAxis_NN.shape"
   ]
  },
  {
   "cell_type": "code",
   "execution_count": null,
   "metadata": {
    "colab": {
     "base_uri": "https://localhost:8080/",
     "height": 230
    },
    "id": "yc4aDoDYtmA0",
    "outputId": "58d74d7e-6929-4c47-ded3-a10cd9e66a4b"
   },
   "outputs": [],
   "source": [
    "plt.figure(figsize=(8,3))\n",
    "plt.subplot(1,2,1)\n",
    "plt.scatter(s_onAxis[:,0],s_onAxis[:,1],c=y_onAxis_GP)\n",
    "plt.subplot(1,2,2)\n",
    "plt.scatter(s_onAxis[:,0],s_onAxis[:,1],c=y_onAxis_NN[:,0])"
   ]
  },
  {
   "cell_type": "code",
   "execution_count": null,
   "metadata": {
    "colab": {
     "base_uri": "https://localhost:8080/",
     "height": 282
    },
    "id": "H-IX3QTvzlGq",
    "outputId": "9727261b-7204-4a34-8f7b-37a433295284"
   },
   "outputs": [],
   "source": [
    "fig = plt.figure(figsize=(5,4))\n",
    "\n",
    "plt.plot(x_onAxis[:,0],y_onAxis ,'k' , label='Ground Truth')\n",
    "plt.plot(x_onAxis[:,0],y_onAxis_GP, 'b-', label='GP prediction')\n",
    "plt.fill_between(x_onAxis[:,0], \n",
    "                y_onAxis_GP- 1.96 * sigma_GP,\n",
    "                y_onAxis_GP+ 1.96 * sigma_GP, \n",
    "                label='95% confidence interval', color='C0', alpha=.5, )\n",
    "plt.plot(x_onAxis[:,0],y_onAxis_NN, 'r-', label='NN prediction',lw=2,alpha=0.5)\n",
    "\n",
    "plt.title('1D slice view of '+str(ndim)+'D problem w. dim-reduction')\n",
    "plt.xlabel(r'$x_0$')\n",
    "plt.ylabel(r'$f(x)$')\n",
    "plt.legend(loc='upper right')\n",
    "plt.xlim(-1,1)\n",
    "plt.ylim(-0.4,1.2)\n",
    "plt.xticks([-1,-0.5,0,0.5,1])\n",
    "plt.tight_layout()\n",
    "plt.savefig('GP_wDimReduct_'+str(ndim)+'D_'+str(nsource)+'source.png',dpi=180)"
   ]
  },
  {
   "cell_type": "code",
   "execution_count": null,
   "metadata": {
    "colab": {
     "base_uri": "https://localhost:8080/"
    },
    "id": "nFAbeznUF196",
    "outputId": "7feabb58-5a55-4184-dd96-a2ef98135196"
   },
   "outputs": [],
   "source": [
    "ptt.count_parameters(model)"
   ]
  },
  {
   "cell_type": "markdown",
   "metadata": {},
   "source": [
    "### 1D source"
   ]
  },
  {
   "cell_type": "code",
   "execution_count": null,
   "metadata": {},
   "outputs": [],
   "source": [
    "nsource = 1"
   ]
  },
  {
   "cell_type": "code",
   "execution_count": null,
   "metadata": {
    "colab": {
     "base_uri": "https://localhost:8080/",
     "height": 1000
    },
    "id": "ZaABf7BvIHuP",
    "outputId": "985911f7-86b4-44a4-a3bf-f6a2b7b4cb14"
   },
   "outputs": [],
   "source": [
    "old_best_loss = 1\n",
    "for i in range(10):\n",
    "  model = ptt.resFCNN_autoEncoder([ndim,32,32,nsource],[nsource,16,16,1], torch.nn.CELU(inplace=True), residual=True, identity_block_every_layer=True)\n",
    "  mode,hist = ptt.train_supervised(model,1.0e-2,200,\n",
    "                                  train_data_loader,\n",
    "                                  optimizer=torch.optim.Adam,\n",
    "#                                   optim_args = {'weight_decay':0.2},\n",
    "                                  criterion=ptt.MPELoss(p=p),\n",
    "                                  old_best_loss = old_best_loss,\n",
    "                                  dispHead = 0, dispTail = 0)\n",
    "  newloss = test(model,ptt.MPELoss(p=p),train_data_loader)\n",
    "  if newloss > 1e-2:\n",
    "    continue\n",
    "  mode,hist = ptt.train_supervised(model,2.0e-3,400,\n",
    "                                  train_data_loader,\n",
    "                                  optimizer=torch.optim.Adam,\n",
    "#                                   optim_args = {'weight_decay':0.2},\n",
    "                                  criterion=ptt.MPELoss(p=p),\n",
    "                                  old_hist = hist,\n",
    "                                  old_best_loss = old_best_loss,\n",
    "                                  dispHead = 0, dispTail = 0)\n",
    "  newloss = test(model,ptt.MPELoss(p=p),train_data_loader)\n",
    "  if newloss > 1e-4:\n",
    "    continue  \n",
    "  mode,hist = ptt.train_supervised(model,2.0e-3,600,\n",
    "                                  train_data_loader,\n",
    "                                  optimizer=torch.optim.Adam,\n",
    "#                                   optim_args = {'weight_decay':0.2},\n",
    "                                  criterion=ptt.MPELoss(p=p),\n",
    "                                  old_hist = hist,\n",
    "                                  old_best_loss = old_best_loss,\n",
    "                                  dispHead = 0, dispTail = 0)\n",
    "  newloss = test(model,ptt.MPELoss(p=p),train_data_loader)\n",
    "  \n",
    "  if newloss < old_best_loss:\n",
    "    old_best_loss = newloss\n",
    "    final_model = copy(model)\n",
    "    final_hist  = copy(hist)\n",
    "    \n",
    "  if newloss < 1e-6:\n",
    "    break\n",
    "    \n",
    "  plt.figure(figsize=(4,2))\n",
    "  plt.semilogy(hist['train_loss'])\n",
    "  plt.semilogy(hist['test_loss'])\n",
    "\n",
    "model = final_model\n",
    "hist = final_hist\n",
    "mode,hist = ptt.train_supervised(model,5.0e-4,800,\n",
    "                                train_data_loader,\n",
    "                                optimizer=torch.optim.Adam,\n",
    "#                                 optim_args = {'weight_decay':0.2},\n",
    "                                # data_loader,\n",
    "                                old_hist = hist,\n",
    "                                criterion=ptt.MPELoss(p=p),\n",
    "                                old_best_loss = newloss,\n",
    "                                dispHead = 0, dispTail = 0)\n",
    "newloss = test(model,ptt.MPELoss(p=p),train_data_loader)\n",
    "\n",
    "\n",
    "model = model.cpu()\n",
    "model.eval();"
   ]
  },
  {
   "cell_type": "code",
   "execution_count": null,
   "metadata": {},
   "outputs": [],
   "source": [
    "plt.figure(figsize=(4,2))\n",
    "plt.semilogy(hist['train_loss'])\n",
    "plt.semilogy(hist['test_loss'])\n",
    "print(newloss)"
   ]
  },
  {
   "cell_type": "code",
   "execution_count": null,
   "metadata": {
    "colab": {
     "base_uri": "https://localhost:8080/"
    },
    "id": "i5T-w9zGtblJ",
    "outputId": "527094df-abf5-4d1e-f010-d66359000562"
   },
   "outputs": [],
   "source": [
    "model(torch.Tensor(x_train[:10,:])).detach().numpy()"
   ]
  },
  {
   "cell_type": "code",
   "execution_count": null,
   "metadata": {
    "colab": {
     "base_uri": "https://localhost:8080/"
    },
    "id": "19lN2T2EIF7j",
    "outputId": "cb52f25c-943e-44bb-dae9-0a4fe89ee025"
   },
   "outputs": [],
   "source": [
    "f(x_train[:10,:])"
   ]
  },
  {
   "cell_type": "markdown",
   "metadata": {
    "id": "fjRHslRYSrPW"
   },
   "source": [
    "##### source from AutoEncoderLike BottleNeck"
   ]
  },
  {
   "cell_type": "code",
   "execution_count": null,
   "metadata": {
    "id": "jMqyrdwGIOrI"
   },
   "outputs": [],
   "source": [
    "s_train = model.get_latent_variable(torch.Tensor(x_train)).detach().numpy()"
   ]
  },
  {
   "cell_type": "code",
   "execution_count": null,
   "metadata": {
    "colab": {
     "base_uri": "https://localhost:8080/",
     "height": 223
    },
    "id": "N9Qjvo5gxUve",
    "outputId": "773a7691-5f3d-4590-d2fc-52438a4cdafd"
   },
   "outputs": [],
   "source": [
    "s_mean = []\n",
    "s_std  = []\n",
    "\n",
    "for i in range(nsource):\n",
    "  s_mean.append(s_train[:,i].mean())\n",
    "  s_std.append(s_train[:,i].std())\n",
    "  print(s_mean,s_std)\n",
    "  s_train[:,i] = (s_train[:,i]-s_mean[i])/s_std[i]\n",
    "  plt.figure(figsize=(2,1))\n",
    "  plt.hist(s_train[:,i]);"
   ]
  },
  {
   "cell_type": "code",
   "execution_count": null,
   "metadata": {
    "id": "qpy98Vt3yitn"
   },
   "outputs": [],
   "source": [
    "s_test = model.get_latent_variable(torch.Tensor(x_test)).detach().numpy()\n",
    "for i in range(nsource):\n",
    "  s_test[:,i] = (s_test[:,i]-s_mean[i])/s_std[i]"
   ]
  },
  {
   "cell_type": "code",
   "execution_count": null,
   "metadata": {
    "colab": {
     "base_uri": "https://localhost:8080/",
     "height": 228
    },
    "id": "jGVPa8qd3kft",
    "outputId": "7cc6d8c9-4eb2-4b6a-d965-fe9f0da76deb"
   },
   "outputs": [],
   "source": [
    "plt.figure(figsize=(5,4))\n",
    "plt.scatter(s_test[:,0],y_test.reshape(-1))\n",
    "\n",
    "plt.title(str(nsource)+'D source vs f(s)')\n",
    "plt.xlabel(r'$s$')\n",
    "plt.ylabel(r'$y$')\n",
    "plt.tight_layout()\n",
    "plt.savefig('4Dto1D_source_contour.png',dpi=180)"
   ]
  },
  {
   "cell_type": "code",
   "execution_count": null,
   "metadata": {
    "id": "-bdwFsTmDXIZ"
   },
   "outputs": [],
   "source": [
    "s_onAxis = model.get_latent_variable(torch.Tensor(x_onAxis)).detach().numpy()\n",
    "for i in range(nsource):\n",
    "  s_onAxis[:,i] = (s_onAxis[:,i]-s_mean[i])/s_std[i]"
   ]
  },
  {
   "cell_type": "markdown",
   "metadata": {
    "id": "JP_gXNqQ4jUP"
   },
   "source": [
    "##### GP on source"
   ]
  },
  {
   "cell_type": "code",
   "execution_count": null,
   "metadata": {
    "id": "1gI0Up4SVITk"
   },
   "outputs": [],
   "source": [
    "kernel = C(0.2, (1e-2, 1e1)) * RBF(1, (1e-2, 1e1))\n",
    "gp = GaussianProcessRegressor(kernel=kernel, n_restarts_optimizer=9, alpha=0.1)"
   ]
  },
  {
   "cell_type": "code",
   "execution_count": null,
   "metadata": {
    "colab": {
     "base_uri": "https://localhost:8080/"
    },
    "id": "O_lSBMngTVsW",
    "outputId": "4cb44c02-e847-4182-89e9-8627bf31c5af"
   },
   "outputs": [],
   "source": [
    "gp.score(s_train, y_train), gp.score(s_test, y_test)"
   ]
  },
  {
   "cell_type": "code",
   "execution_count": null,
   "metadata": {
    "colab": {
     "base_uri": "https://localhost:8080/"
    },
    "id": "C7s787EMTY9c",
    "outputId": "aacd51a9-9759-4892-e440-957238559900"
   },
   "outputs": [],
   "source": [
    "gp.fit(s_train, y_train)\n",
    "gp.kernel_"
   ]
  },
  {
   "cell_type": "code",
   "execution_count": null,
   "metadata": {
    "colab": {
     "base_uri": "https://localhost:8080/"
    },
    "id": "o_hfrTN_zp69",
    "outputId": "ed7ee78a-b25b-4f9e-eb89-53682eda48b8"
   },
   "outputs": [],
   "source": [
    "gp.score(s_train, y_train), gp.score(s_test, y_test)   "
   ]
  },
  {
   "cell_type": "markdown",
   "metadata": {
    "id": "GTulbGz1zcdd"
   },
   "source": [
    "##### on axis"
   ]
  },
  {
   "cell_type": "code",
   "execution_count": null,
   "metadata": {
    "id": "1v7rbu9WGAnb"
   },
   "outputs": [],
   "source": [
    "y_onAxis_GP, sigma_GP = gp.predict(s_onAxis, return_std=True)\n",
    "y_onAxis_GP = y_onAxis_GP.reshape(-1)\n",
    "y_onAxis_NN = model(torch.Tensor(x_onAxis)).detach().numpy() "
   ]
  },
  {
   "cell_type": "code",
   "execution_count": null,
   "metadata": {},
   "outputs": [],
   "source": [
    "y_onAxis_NN.shape"
   ]
  },
  {
   "cell_type": "code",
   "execution_count": null,
   "metadata": {
    "colab": {
     "base_uri": "https://localhost:8080/",
     "height": 230
    },
    "id": "yc4aDoDYtmA0",
    "outputId": "58d74d7e-6929-4c47-ded3-a10cd9e66a4b"
   },
   "outputs": [],
   "source": [
    "plt.figure(figsize=(8,3))\n",
    "plt.subplot(1,2,1)\n",
    "plt.scatter(s_onAxis[:,0],y_onAxis)\n",
    "plt.subplot(1,2,2)\n",
    "plt.scatter(s_onAxis[:,0],y_onAxis_NN)"
   ]
  },
  {
   "cell_type": "code",
   "execution_count": null,
   "metadata": {
    "colab": {
     "base_uri": "https://localhost:8080/",
     "height": 282
    },
    "id": "H-IX3QTvzlGq",
    "outputId": "9727261b-7204-4a34-8f7b-37a433295284"
   },
   "outputs": [],
   "source": [
    "fig = plt.figure(figsize=(5,4))\n",
    "\n",
    "plt.plot(x_onAxis[:,0],y_onAxis ,'k' , label='Ground Truth')\n",
    "plt.plot(x_onAxis[:,0],y_onAxis_GP, 'b-', label='GP prediction')\n",
    "plt.fill_between(x_onAxis[:,0], \n",
    "                y_onAxis_GP- 1.96 * sigma_GP,\n",
    "                y_onAxis_GP+ 1.96 * sigma_GP, \n",
    "                label='95% confidence interval', color='C0', alpha=.5, )\n",
    "plt.plot(x_onAxis[:,0],y_onAxis_NN, 'r-', label='NN prediction',lw=2,alpha=0.5)\n",
    "\n",
    "plt.title('1D slice view of '+str(ndim)+'D problem w. dim-reduction')\n",
    "plt.xlabel(r'$x_0$')\n",
    "plt.ylabel(r'$f(x)$')\n",
    "plt.legend(loc='upper right')\n",
    "plt.xlim(-1,1)\n",
    "plt.ylim(-0.4,1.2)\n",
    "plt.xticks([-1,-0.5,0,0.5,1])\n",
    "plt.tight_layout()\n",
    "plt.savefig('GP_wDimReduct_'+str(ndim)+'D_'+str(nsource)+'source.png',dpi=180)"
   ]
  },
  {
   "cell_type": "code",
   "execution_count": null,
   "metadata": {
    "colab": {
     "base_uri": "https://localhost:8080/"
    },
    "id": "nFAbeznUF196",
    "outputId": "7feabb58-5a55-4184-dd96-a2ef98135196"
   },
   "outputs": [],
   "source": [
    "ptt.count_parameters(model)"
   ]
  }
 ],
 "metadata": {
  "colab": {
   "collapsed_sections": [],
   "name": "GaussianProcess6Dto2D_autoEncoder_randn.ipynb",
   "provenance": []
  },
  "kernelspec": {
   "display_name": "pytorch-v1.4.0",
   "language": "python",
   "name": "pytorch-v1.4.0"
  },
  "language_info": {
   "codemirror_mode": {
    "name": "ipython",
    "version": 3
   },
   "file_extension": ".py",
   "mimetype": "text/x-python",
   "name": "python",
   "nbconvert_exporter": "python",
   "pygments_lexer": "ipython3",
   "version": "3.7.6"
  }
 },
 "nbformat": 4,
 "nbformat_minor": 4
}
